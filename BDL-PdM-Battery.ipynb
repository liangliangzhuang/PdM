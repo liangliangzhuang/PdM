{
  "nbformat": 4,
  "nbformat_minor": 0,
  "metadata": {
    "colab": {
      "provenance": [],
      "collapsed_sections": [
        "cwJnvO_1Rpja"
      ],
      "authorship_tag": "ABX9TyOsWbyn6bmkrZ5jEjyzs8Ok",
      "include_colab_link": true
    },
    "kernelspec": {
      "name": "python3",
      "display_name": "Python 3"
    },
    "language_info": {
      "name": "python"
    },
    "accelerator": "GPU",
    "gpuClass": "standard"
  },
  "cells": [
    {
      "cell_type": "markdown",
      "metadata": {
        "id": "view-in-github",
        "colab_type": "text"
      },
      "source": [
        "<a href=\"https://colab.research.google.com/github/liangliangzhuang/PdM/blob/main/%E2%80%9CBDL-PdM-Battery.ipynb\" target=\"_parent\"><img src=\"https://colab.research.google.com/assets/colab-badge.svg\" alt=\"Open In Colab\"/></a>"
      ]
    },
    {
      "cell_type": "markdown",
      "source": [
        "## 加载库"
      ],
      "metadata": {
        "id": "cwJnvO_1Rpja"
      }
    },
    {
      "cell_type": "code",
      "execution_count": null,
      "metadata": {
        "colab": {
          "base_uri": "https://localhost:8080/"
        },
        "id": "K4yOQNpKyXuH",
        "outputId": "0eaa6009-167d-47b0-b8ef-1e834f8314cc"
      },
      "outputs": [
        {
          "output_type": "stream",
          "name": "stdout",
          "text": [
            "Mounted at /content/gdrive\n"
          ]
        }
      ],
      "source": [
        "from google.colab import drive\n",
        "drive.mount('/content/gdrive')\n",
        "import os\n",
        "os.getcwd()\n",
        "os.chdir('/content/gdrive/MyDrive/DBL2021/Battery')"
      ]
    },
    {
      "cell_type": "code",
      "source": [
        "# 导入第三方库\n",
        "from sklearn import preprocessing\n",
        "import matplotlib.pyplot as plt\n",
        "import numpy as np\n",
        "import pandas as pd\n",
        "from utility import *\n",
        "import seaborn as sns\n",
        "import time\n",
        "import tensorflow as tf\n",
        "import tensorflow.keras.backend as K\n",
        "from tensorflow.keras.layers import Activation, Dense, Dropout, LSTM, Lambda, Input, Concatenate, Bidirectional\n",
        "from tensorflow.keras.models import Sequential, load_model, Model\n",
        "from tensorflow.keras.optimizers import RMSprop\n",
        "import tensorflow_probability as tfp\n",
        "tfd = tfp.distributions\n",
        "import statsmodels.api as sm\n",
        "import math"
      ],
      "metadata": {
        "id": "2zJaEbDiyqV_"
      },
      "execution_count": null,
      "outputs": []
    },
    {
      "cell_type": "markdown",
      "source": [
        "## 数据处理"
      ],
      "metadata": {
        "id": "8EkZFrhTSRZC"
      }
    },
    {
      "cell_type": "code",
      "source": [
        "#training_dataset = pd.read_csv('CSVs/training_new.csv')\n",
        "#test_dataset = pd.read_csv('CSVs/test_new.csv')\n",
        "training_dataset = pd.read_csv('CSVs/training_data.csv')\n",
        "test_dataset = pd.read_csv('CSVs/testing_data.csv')"
      ],
      "metadata": {
        "id": "9L3uba-TyruW"
      },
      "execution_count": null,
      "outputs": []
    },
    {
      "cell_type": "code",
      "source": [
        "# training_dataset = training_dataset[training_dataset['SampleId'] == 1]"
      ],
      "metadata": {
        "id": "t5xSilJ0XF89"
      },
      "execution_count": null,
      "outputs": []
    },
    {
      "cell_type": "code",
      "source": [
        "# MinMax归一化(从0到1)\n",
        "# 训练集\n",
        "training_dataset['cycle_norm'] = training_dataset['Cycle']\n",
        "cols_normalize = training_dataset.columns.difference(['SampleId', 'Cycle', 'RUL'])\n",
        "min_max_scaler = preprocessing.MinMaxScaler() #标准化\n",
        "norm_training_dataset = pd.DataFrame(min_max_scaler.fit_transform(training_dataset[cols_normalize]),\n",
        "                             columns=cols_normalize,\n",
        "                             index=training_dataset.index)\n",
        "join_df = training_dataset[training_dataset.columns.difference(\n",
        "     cols_normalize)].join(norm_training_dataset)\n",
        "training_dataset = join_df.reindex(columns=training_dataset.columns)\n",
        "training_dataset \n",
        "\n",
        "\n",
        "# 测试集\n",
        "test_dataset['cycle_norm'] = test_dataset['Cycle']\n",
        "cols_normalize = test_dataset.columns.difference(['SampleId', 'Cycle', 'RUL'])\n",
        "min_max_scaler = preprocessing.MinMaxScaler() #标准化\n",
        "norm_test_dataset = pd.DataFrame(min_max_scaler.fit_transform(test_dataset[cols_normalize]),\n",
        "                             columns=cols_normalize,\n",
        "                             index=test_dataset.index)\n",
        "join_df = test_dataset[test_dataset.columns.difference(\n",
        "     cols_normalize)].join(norm_test_dataset)\n",
        "test_dataset = join_df.reindex(columns=test_dataset.columns)\n",
        "test_dataset \n",
        "test_dataset.columns"
      ],
      "metadata": {
        "colab": {
          "base_uri": "https://localhost:8080/"
        },
        "id": "oW-ZjzSeyv0c",
        "outputId": "4a120ee9-e88c-4cec-c68e-7ad085dbff4c"
      },
      "execution_count": null,
      "outputs": [
        {
          "output_type": "execute_result",
          "data": {
            "text/plain": [
              "Index(['Cycle', 'Time Measured(Sec)', 'Voltage Measured(V)',\n",
              "       'Current Measured', 'Temperature Measured', 'Capacity(Ah)', 'RUL',\n",
              "       'SampleId', 'cycle_norm'],\n",
              "      dtype='object')"
            ]
          },
          "metadata": {},
          "execution_count": 5
        }
      ]
    },
    {
      "cell_type": "code",
      "source": [
        "training_dataset "
      ],
      "metadata": {
        "id": "9_UcOcujU_tM"
      },
      "execution_count": null,
      "outputs": []
    },
    {
      "cell_type": "markdown",
      "source": [
        "### 数据重构"
      ],
      "metadata": {
        "id": "ljUcQ5r-SXVb"
      }
    },
    {
      "cell_type": "code",
      "source": [
        "test_dataset.columns[[2,3,4,5,6,8]]"
      ],
      "metadata": {
        "colab": {
          "base_uri": "https://localhost:8080/"
        },
        "id": "uW6hn5OMYZlL",
        "outputId": "4967f036-b84d-4a86-d2d4-58ec6385267e"
      },
      "execution_count": null,
      "outputs": [
        {
          "output_type": "execute_result",
          "data": {
            "text/plain": [
              "Index(['Voltage Measured(V)', 'Current Measured', 'Temperature Measured',\n",
              "       'Capacity(Ah)', 'RUL', 'cycle_norm'],\n",
              "      dtype='object')"
            ]
          },
          "metadata": {},
          "execution_count": 185
        }
      ]
    },
    {
      "cell_type": "code",
      "source": [
        "sequence_cols = test_dataset.columns[[2,3,4]] #RUL也算入训练集\n",
        "sequence_length = 10\n",
        "# 产生序列（474，10，6），每10个为一组. 变化后 (369, 10, 7)\n",
        "seq_gen = (list(gen_sequence(training_dataset[training_dataset['SampleId'] == id], sequence_length, sequence_cols))\n",
        "           for id in training_dataset['SampleId'].unique())\n",
        "# 生成序列并转换为 numpy 数组\n",
        "seq_array = np.concatenate(list(seq_gen)).astype(np.float32)\n",
        "seq_array.shape\n",
        "        \n",
        "# 生成标签 \n",
        "label_gen = [gen_labels(training_dataset[training_dataset['SampleId'] == id], sequence_length, ['RUL'])\n",
        "             for id in training_dataset['SampleId'].unique()]\n",
        "label_array = np.concatenate(label_gen).astype(np.float32)\n",
        "label_array.shape\n"
      ],
      "metadata": {
        "colab": {
          "base_uri": "https://localhost:8080/"
        },
        "id": "vwRU15M9yyRw",
        "outputId": "b670758d-35e7-4ed7-ae2a-728e1fbed343"
      },
      "execution_count": null,
      "outputs": [
        {
          "output_type": "execute_result",
          "data": {
            "text/plain": [
              "(473, 1)"
            ]
          },
          "metadata": {},
          "execution_count": 6
        }
      ]
    },
    {
      "cell_type": "code",
      "source": [
        "label_array"
      ],
      "metadata": {
        "id": "pw4m26-jVn26"
      },
      "execution_count": null,
      "outputs": []
    },
    {
      "cell_type": "code",
      "source": [
        "seq_array"
      ],
      "metadata": {
        "id": "MRjBgM4xTwJx"
      },
      "execution_count": null,
      "outputs": []
    },
    {
      "cell_type": "markdown",
      "source": [
        "## 模型建模"
      ],
      "metadata": {
        "id": "ev5Jec_VSbbz"
      }
    },
    {
      "cell_type": "code",
      "source": [
        "def BDL_BiLSTM(nunits=10, nlayer=2, lr=0.01, sequence_length=10, drops=0.2, batchsize=16, nepochs=30, seq_array=[], label_array=[]):\n",
        "    # 特征个数 25个 3+21+1(cycle_normal) 3+9+1 = 13\n",
        "    nb_features = seq_array.shape[2]\n",
        "    nb_out = label_array.shape[1]  # 1\n",
        "    # 构建模型\n",
        "    Input1 = Input(shape=(sequence_length, nb_features))  # LSTM （30，25）\n",
        "    LSTM11 = Bidirectional(LSTM(units=nunits, return_sequences=True))(Input1)\n",
        "    Dropout1 = PermaDropout(drops)(LSTM11)\n",
        "    LSTM12 = Bidirectional(LSTM(units=nunits, return_sequences=False))(Dropout1)  # return_sequences=False 这里不用传给后面\n",
        "    Dropout2 = PermaDropout(drops)(LSTM12)\n",
        "    Dense1 = Dense(units=nb_out, activation=\"linear\")(Dropout2)\n",
        "\n",
        "    Input2 = Input(shape=(1,))  # FFNN\n",
        "    Dense21 = Dense(units=5, activation=\"sigmoid\",\n",
        "                    kernel_constraint=tf.keras.constraints.NonNeg())(Input2)  # 加了一个限制kernel_constraint非负\n",
        "    Dropout21 = PermaDropout(drops)(Dense21)\n",
        "    Dense22 = Dense(\n",
        "        units=1, kernel_constraint=tf.keras.constraints.NonNeg())(Dropout21)\n",
        "\n",
        "    Merge = tf.keras.layers.concatenate([Dense1, Dense22])  # 将两个Dense合并\n",
        "\n",
        "    BiLSTM_model = Model(inputs=[Input1, Input2],\n",
        "                         outputs=Merge)  # 这里具体怎么编写的，自己还不会写\n",
        "\n",
        "    # 编译模型\n",
        "    BiLSTM_model.compile(loss=negative_likelihood, optimizer=RMSprop(\n",
        "        learning_rate=lr))  # 损失函数自己定义 + 优化器是RMSprop，lr是学习率\n",
        "\n",
        "    rep_label_array = np.repeat(label_array, 2, axis=1)  # 这里的 y（标签）也是两个！\n",
        "\n",
        "    # 标记模型结构\n",
        "    model_structure =  '_lam_%d_nunits_%d_nlayer_%d_ntw_%d' % (\n",
        "            1000*lam, nunits, nlayer, sequence_length)\n",
        "    model_path = \"Output/\"+model_structure+\".h5\"\n",
        "\n",
        "    # 编译模型\n",
        "    history = BiLSTM_model.fit([seq_array, label_array], rep_label_array, epochs=nepochs, batch_size=batchsize, validation_split=0.1, verbose=0#,\n",
        "                               #callbacks=[tf.keras.callbacks.EarlyStopping(monitor='val_loss', min_delta=0, patience=5, verbose=0, mode='min'),\n",
        "                               #           tf.keras.callbacks.ModelCheckpoint(model_path, monitor='val_loss', save_best_only=True, mode='min', verbose=0)]\n",
        "                               )  # callbacks——回调\n",
        "\n",
        "    # 绘制拟合时的残差变化值\n",
        "    pd.DataFrame(history.history).plot(figsize=(8, 5))\n",
        "    plt.grid(True)\n",
        "    plt.gca().set_ylim(0,10000)\n",
        "    plt.show()\n",
        "\n",
        "    return BiLSTM_model"
      ],
      "metadata": {
        "id": "p9p7IY2Qy1Bn"
      },
      "execution_count": null,
      "outputs": []
    },
    {
      "cell_type": "code",
      "source": [
        "def Pred_test_id(product_id,T, model, nlayer, test_dataset, sequence_length, sequence_cols):\n",
        "    # 模型变化（这里还没看懂！）\n",
        "    intermediate_layer_model = tf.keras.Model(\n",
        "        inputs=model.input, outputs=model.layers[2 * (nlayer + 2)].output)\n",
        "    intermediate_layer_model_beta = tf.keras.Model(\n",
        "        inputs=model.input, outputs=model.layers[2 * (nlayer + 2) + 1].output)\n",
        "\n",
        "    seq_array_test_pro = [test_dataset[test_dataset['SampleId'] == product_id][sequence_cols].values[i:sequence_length + i]\n",
        "                          for i in range(0, test_dataset[test_dataset['SampleId'] == product_id].shape[0] - sequence_length)]\n",
        "    seq_array_test_pro = np.asarray(seq_array_test_pro).astype(np.float32)\n",
        "    seq_array_test_pro.shape #(86, 10, 6)\n",
        "\n",
        "    ## 给出标签\n",
        "    label_array_test_pro = test_dataset[test_dataset['SampleId'] == product_id]['RUL'][sequence_length:].values\n",
        "    label_array_test_pro.reshape(label_array_test_pro.shape[0], 1).astype(np.float32)\n",
        "    label_array_test_pro.shape #(86,)\n",
        "\n",
        "    ## 训练模型\n",
        "\n",
        "    y_pred_test_tmp = list(intermediate_layer_model.predict(\n",
        "        [seq_array_test_pro, label_array_test_pro]) for i in range(T))\n",
        "    y_pred_beta_tmp = list(intermediate_layer_model_beta.predict(\n",
        "        [seq_array_test_pro, label_array_test_pro]) for i in range(T))\n",
        "    y_pred_test_tmp = np.reshape(\n",
        "        y_pred_test_tmp, (T, np.shape(seq_array_test_pro)[0], 1))\n",
        "    y_pred_beta_tmp = np.reshape(\n",
        "        np.exp(y_pred_beta_tmp), (T, np.shape(seq_array_test_pro)[0], 1))  # (T, 100, 1)\n",
        "\n",
        "    ## 计算预测结果（均值，标准差）\n",
        "    y_pred_test_mean = np.mean(y_pred_test_tmp, axis=0)  # axis表示按列求均值(118, 1)\n",
        "    y_pred_test_std_model = np.std(y_pred_test_tmp, axis=0)\n",
        "    y_pred_beta = np.mean(y_pred_beta_tmp, axis=0)  # (118, 1)\n",
        "    y_pred_test_std = y_pred_test_std_model + y_pred_beta  # 118x1\n",
        "    y_true_test_tmp = np.reshape(label_array_test_pro, (np.shape(seq_array_test_pro)[0], 1))\n",
        "\n",
        "    ## 计算评估标准\n",
        "    mse_ts = np.sqrt(np.nanmean(np.square(y_true_test_tmp - y_pred_test_mean)))  # 计算MSE\n",
        "    scores = np.nansum([Score(d) for d in y_pred_test_mean - y_true_test_tmp])  # 计算得分\n",
        "    # mse_ts,scores\n",
        "    return [mse_ts, scores], y_pred_test_tmp, y_pred_beta_tmp, y_pred_test_mean, y_pred_test_std\n",
        "\n",
        "def Plot_unit(pred_mean, pred_std, product_id, test_dataset, sequence_length):\n",
        "    # 数据处理\n",
        "    df1 = test_dataset[test_dataset['SampleId'] == product_id][[\n",
        "        'Cycle','RUL']][sequence_length:]\n",
        "    df1.index = range(0, df1.shape[0])\n",
        "    df2 = pd.DataFrame(pred_mean)\n",
        "    df2['sd'] = pred_std\n",
        "    time_rul_pro = pd.concat([df1, df2], axis=1)\n",
        "    time_rul_pro.columns = ['cycle', 'Label', 'Prediction', 'std']\n",
        "    # time_rul_pro\n",
        "    # 注意这里最后一列数据的真实值的label，不等于T\n",
        "    # plt.style.use('ggplot')\n",
        "    plt.style.use('seaborn-white')\n",
        "    plt.figure(figsize=(11, 6))\n",
        "    #plt.plot( 'cycle', 'Prediction', data=time_rul_21, marker='',markerfacecolor='red', color='red', linewidth=2)\n",
        "    plt.plot('cycle', 'Label', data=time_rul_pro, marker='', markersize=12,\n",
        "             label='Label', linewidth=2)\n",
        "    plt.errorbar(time_rul_pro['cycle'], time_rul_pro['Prediction'], yerr=time_rul_pro['std'], capsize=4,\n",
        "                 marker=\".\", markersize=8, linestyle=\"None\", label='Prediction')  # , color = sns.color_palette(\"Paired\")[7])\n",
        "    # plt.title(\"Test Engine Unit #\" + str(product_id))\n",
        "    plt.xlabel(\"Time(Cycle)\", fontsize=18)\n",
        "    # plt.title(\"Unit\" + str(product_id))\n",
        "    plt.rc('legend', fontsize=16)\n",
        "    plt.ylabel(\"RUL\", fontsize=18)\n",
        "    plt.legend(loc='lower left', fontsize=18)\n",
        "    # Set tick font size\n",
        "    plt.xticks(fontsize=16)\n",
        "    plt.yticks(fontsize=16)\n",
        "    plt.show()\n",
        "    plt.savefig(\"Output/Unit\" + str(product_id) + \".pdf\", bbox_inches='tight')"
      ],
      "metadata": {
        "id": "KpLUxnRTy7m3"
      },
      "execution_count": null,
      "outputs": []
    },
    {
      "cell_type": "code",
      "source": [
        "# 参数设置\n",
        "nunits = 10\n",
        "nlayer = 2\n",
        "batchsize = 32\n",
        "nepochs = 500\n",
        "T = 100"
      ],
      "metadata": {
        "id": "ju86bjUXzBBj"
      },
      "execution_count": null,
      "outputs": []
    },
    {
      "cell_type": "code",
      "source": [
        "model = BDL_BiLSTM(nunits = nunits, nlayer = nlayer, lr = 0.01, drops = 0.2, batchsize = batchsize, nepochs = nepochs, seq_array = seq_array, label_array = label_array)"
      ],
      "metadata": {
        "colab": {
          "base_uri": "https://localhost:8080/",
          "height": 320
        },
        "id": "atJXXUfdy31u",
        "outputId": "adb65379-8a19-4ebe-beae-7d5a935cfcbb"
      },
      "execution_count": null,
      "outputs": [
        {
          "output_type": "display_data",
          "data": {
            "text/plain": [
              "<Figure size 576x360 with 1 Axes>"
            ],
            "image/png": "[encoded data removed]"
          },
          "metadata": {}
        }
      ]
    },
    {
      "cell_type": "code",
      "source": [
        "pred_test_id = Pred_test_id(nlayer=nlayer, product_id=4, T=T, model=model, test_dataset=test_dataset,sequence_length=sequence_length, sequence_cols=sequence_cols)"
      ],
      "metadata": {
        "colab": {
          "base_uri": "https://localhost:8080/"
        },
        "id": "A_PlyaNVzZl3",
        "outputId": "4e81dbff-08e8-4a09-e7ac-a27e60bdce63"
      },
      "execution_count": null,
      "outputs": [
        {
          "output_type": "stream",
          "name": "stdout",
          "text": [
            "5/5 [==============================] - 2s 4ms/step\n",
            "5/5 [==============================] - 0s 4ms/step\n",
            "5/5 [==============================] - 0s 4ms/step\n",
            "5/5 [==============================] - 0s 4ms/step\n",
            "5/5 [==============================] - 0s 4ms/step\n",
            "5/5 [==============================] - 0s 6ms/step\n",
            "5/5 [==============================] - 0s 5ms/step\n",
            "5/5 [==============================] - 0s 4ms/step\n",
            "5/5 [==============================] - 0s 4ms/step\n",
            "5/5 [==============================] - 0s 4ms/step\n",
            "5/5 [==============================] - 0s 4ms/step\n",
            "5/5 [==============================] - 0s 4ms/step\n",
            "5/5 [==============================] - 0s 4ms/step\n",
            "5/5 [==============================] - 0s 4ms/step\n",
            "5/5 [==============================] - 0s 5ms/step\n",
            "5/5 [==============================] - 0s 6ms/step\n",
            "5/5 [==============================] - 0s 4ms/step\n",
            "5/5 [==============================] - 0s 5ms/step\n",
            "5/5 [==============================] - 0s 4ms/step\n",
            "5/5 [==============================] - 0s 4ms/step\n",
            "5/5 [==============================] - 0s 4ms/step\n",
            "5/5 [==============================] - 0s 4ms/step\n",
            "5/5 [==============================] - 0s 4ms/step\n",
            "5/5 [==============================] - 0s 4ms/step\n",
            "5/5 [==============================] - 0s 4ms/step\n",
            "5/5 [==============================] - 0s 4ms/step\n",
            "5/5 [==============================] - 0s 6ms/step\n",
            "5/5 [==============================] - 0s 5ms/step\n",
            "5/5 [==============================] - 0s 4ms/step\n",
            "5/5 [==============================] - 0s 4ms/step\n",
            "5/5 [==============================] - 0s 4ms/step\n",
            "5/5 [==============================] - 0s 4ms/step\n",
            "5/5 [==============================] - 0s 5ms/step\n",
            "5/5 [==============================] - 0s 4ms/step\n",
            "5/5 [==============================] - 0s 4ms/step\n",
            "5/5 [==============================] - 0s 4ms/step\n",
            "5/5 [==============================] - 0s 4ms/step\n",
            "5/5 [==============================] - 0s 4ms/step\n",
            "5/5 [==============================] - 0s 4ms/step\n",
            "5/5 [==============================] - 0s 4ms/step\n",
            "5/5 [==============================] - 0s 4ms/step\n",
            "5/5 [==============================] - 0s 4ms/step\n",
            "5/5 [==============================] - 0s 4ms/step\n",
            "5/5 [==============================] - 0s 4ms/step\n",
            "5/5 [==============================] - 0s 7ms/step\n",
            "5/5 [==============================] - 0s 4ms/step\n",
            "5/5 [==============================] - 0s 4ms/step\n",
            "5/5 [==============================] - 0s 4ms/step\n",
            "5/5 [==============================] - 0s 5ms/step\n",
            "5/5 [==============================] - 0s 4ms/step\n",
            "5/5 [==============================] - 0s 4ms/step\n",
            "5/5 [==============================] - 0s 5ms/step\n",
            "5/5 [==============================] - 0s 4ms/step\n",
            "5/5 [==============================] - 0s 4ms/step\n",
            "5/5 [==============================] - 0s 4ms/step\n",
            "5/5 [==============================] - 0s 4ms/step\n",
            "5/5 [==============================] - 0s 4ms/step\n",
            "5/5 [==============================] - 0s 4ms/step\n",
            "5/5 [==============================] - 0s 4ms/step\n",
            "5/5 [==============================] - 0s 5ms/step\n",
            "5/5 [==============================] - 0s 4ms/step\n",
            "5/5 [==============================] - 0s 5ms/step\n",
            "5/5 [==============================] - 0s 4ms/step\n",
            "5/5 [==============================] - 0s 4ms/step\n",
            "5/5 [==============================] - 0s 5ms/step\n",
            "5/5 [==============================] - 0s 4ms/step\n",
            "5/5 [==============================] - 0s 4ms/step\n",
            "5/5 [==============================] - 0s 4ms/step\n",
            "5/5 [==============================] - 0s 4ms/step\n",
            "5/5 [==============================] - 0s 7ms/step\n",
            "5/5 [==============================] - 0s 4ms/step\n",
            "5/5 [==============================] - 0s 4ms/step\n",
            "5/5 [==============================] - 0s 5ms/step\n",
            "5/5 [==============================] - 0s 4ms/step\n",
            "5/5 [==============================] - 0s 4ms/step\n",
            "5/5 [==============================] - 0s 4ms/step\n",
            "5/5 [==============================] - 0s 6ms/step\n",
            "5/5 [==============================] - 0s 4ms/step\n",
            "5/5 [==============================] - 0s 7ms/step\n",
            "5/5 [==============================] - 0s 4ms/step\n",
            "5/5 [==============================] - 0s 5ms/step\n",
            "5/5 [==============================] - 0s 4ms/step\n",
            "5/5 [==============================] - 0s 6ms/step\n",
            "5/5 [==============================] - 0s 4ms/step\n",
            "5/5 [==============================] - 0s 4ms/step\n",
            "5/5 [==============================] - 0s 4ms/step\n",
            "5/5 [==============================] - 0s 4ms/step\n",
            "5/5 [==============================] - 0s 5ms/step\n",
            "5/5 [==============================] - 0s 7ms/step\n",
            "5/5 [==============================] - 0s 4ms/step\n",
            "5/5 [==============================] - 0s 5ms/step\n",
            "5/5 [==============================] - 0s 4ms/step\n",
            "5/5 [==============================] - 0s 4ms/step\n",
            "5/5 [==============================] - 0s 4ms/step\n",
            "5/5 [==============================] - 0s 4ms/step\n",
            "5/5 [==============================] - 0s 4ms/step\n",
            "5/5 [==============================] - 0s 4ms/step\n",
            "5/5 [==============================] - 0s 4ms/step\n",
            "5/5 [==============================] - 0s 4ms/step\n",
            "5/5 [==============================] - 0s 4ms/step\n",
            "5/5 [==============================] - 0s 2ms/step\n",
            "5/5 [==============================] - 0s 2ms/step\n",
            "5/5 [==============================] - 0s 2ms/step\n",
            "5/5 [==============================] - 0s 2ms/step\n",
            "5/5 [==============================] - 0s 4ms/step\n",
            "5/5 [==============================] - 0s 2ms/step\n",
            "5/5 [==============================] - 0s 2ms/step\n",
            "5/5 [==============================] - 0s 2ms/step\n",
            "5/5 [==============================] - 0s 2ms/step\n",
            "5/5 [==============================] - 0s 3ms/step\n",
            "5/5 [==============================] - 0s 2ms/step\n",
            "5/5 [==============================] - 0s 2ms/step\n",
            "5/5 [==============================] - 0s 2ms/step\n",
            "5/5 [==============================] - 0s 2ms/step\n",
            "5/5 [==============================] - 0s 2ms/step\n",
            "5/5 [==============================] - 0s 2ms/step\n",
            "5/5 [==============================] - 0s 3ms/step\n",
            "5/5 [==============================] - 0s 2ms/step\n",
            "5/5 [==============================] - 0s 2ms/step\n",
            "5/5 [==============================] - 0s 2ms/step\n",
            "5/5 [==============================] - 0s 2ms/step\n",
            "5/5 [==============================] - 0s 2ms/step\n",
            "5/5 [==============================] - 0s 2ms/step\n",
            "5/5 [==============================] - 0s 2ms/step\n",
            "5/5 [==============================] - 0s 2ms/step\n",
            "5/5 [==============================] - 0s 2ms/step\n",
            "5/5 [==============================] - 0s 2ms/step\n",
            "5/5 [==============================] - 0s 2ms/step\n",
            "5/5 [==============================] - 0s 2ms/step\n",
            "5/5 [==============================] - 0s 2ms/step\n",
            "5/5 [==============================] - 0s 2ms/step\n",
            "5/5 [==============================] - 0s 2ms/step\n",
            "5/5 [==============================] - 0s 2ms/step\n",
            "5/5 [==============================] - 0s 2ms/step\n",
            "5/5 [==============================] - 0s 3ms/step\n",
            "5/5 [==============================] - 0s 2ms/step\n",
            "5/5 [==============================] - 0s 2ms/step\n",
            "5/5 [==============================] - 0s 2ms/step\n",
            "5/5 [==============================] - 0s 2ms/step\n",
            "5/5 [==============================] - 0s 2ms/step\n",
            "5/5 [==============================] - 0s 2ms/step\n",
            "5/5 [==============================] - 0s 2ms/step\n",
            "5/5 [==============================] - 0s 2ms/step\n",
            "5/5 [==============================] - 0s 2ms/step\n",
            "5/5 [==============================] - 0s 2ms/step\n",
            "5/5 [==============================] - 0s 2ms/step\n",
            "5/5 [==============================] - 0s 2ms/step\n",
            "5/5 [==============================] - 0s 2ms/step\n",
            "5/5 [==============================] - 0s 2ms/step\n",
            "5/5 [==============================] - 0s 2ms/step\n",
            "5/5 [==============================] - 0s 2ms/step\n",
            "5/5 [==============================] - 0s 2ms/step\n",
            "5/5 [==============================] - 0s 2ms/step\n",
            "5/5 [==============================] - 0s 2ms/step\n",
            "5/5 [==============================] - 0s 2ms/step\n",
            "5/5 [==============================] - 0s 2ms/step\n",
            "5/5 [==============================] - 0s 2ms/step\n",
            "5/5 [==============================] - 0s 2ms/step\n",
            "5/5 [==============================] - 0s 2ms/step\n",
            "5/5 [==============================] - 0s 2ms/step\n",
            "5/5 [==============================] - 0s 2ms/step\n",
            "5/5 [==============================] - 0s 3ms/step\n",
            "5/5 [==============================] - 0s 2ms/step\n",
            "5/5 [==============================] - 0s 2ms/step\n",
            "5/5 [==============================] - 0s 2ms/step\n",
            "5/5 [==============================] - 0s 3ms/step\n",
            "5/5 [==============================] - 0s 2ms/step\n",
            "5/5 [==============================] - 0s 2ms/step\n",
            "5/5 [==============================] - 0s 2ms/step\n",
            "5/5 [==============================] - 0s 2ms/step\n",
            "5/5 [==============================] - 0s 3ms/step\n",
            "5/5 [==============================] - 0s 2ms/step\n",
            "5/5 [==============================] - 0s 2ms/step\n",
            "5/5 [==============================] - 0s 2ms/step\n",
            "5/5 [==============================] - 0s 2ms/step\n",
            "5/5 [==============================] - 0s 2ms/step\n",
            "5/5 [==============================] - 0s 2ms/step\n",
            "5/5 [==============================] - 0s 2ms/step\n",
            "5/5 [==============================] - 0s 2ms/step\n",
            "5/5 [==============================] - 0s 2ms/step\n",
            "5/5 [==============================] - 0s 2ms/step\n",
            "5/5 [==============================] - 0s 2ms/step\n",
            "5/5 [==============================] - 0s 2ms/step\n",
            "5/5 [==============================] - 0s 2ms/step\n",
            "5/5 [==============================] - 0s 2ms/step\n",
            "5/5 [==============================] - 0s 3ms/step\n",
            "5/5 [==============================] - 0s 2ms/step\n",
            "5/5 [==============================] - 0s 2ms/step\n",
            "5/5 [==============================] - 0s 2ms/step\n",
            "5/5 [==============================] - 0s 2ms/step\n",
            "5/5 [==============================] - 0s 2ms/step\n",
            "5/5 [==============================] - 0s 2ms/step\n",
            "5/5 [==============================] - 0s 2ms/step\n",
            "5/5 [==============================] - 0s 2ms/step\n",
            "5/5 [==============================] - 0s 2ms/step\n",
            "5/5 [==============================] - 0s 2ms/step\n",
            "5/5 [==============================] - 0s 2ms/step\n",
            "5/5 [==============================] - 0s 2ms/step\n",
            "5/5 [==============================] - 0s 2ms/step\n",
            "5/5 [==============================] - 0s 2ms/step\n"
          ]
        }
      ]
    },
    {
      "cell_type": "code",
      "source": [
        "pred_test_id[0]"
      ],
      "metadata": {
        "colab": {
          "base_uri": "https://localhost:8080/"
        },
        "id": "VUrOaU00078V",
        "outputId": "d217b380-ba7b-4a35-f2c9-214a14e80a11"
      },
      "execution_count": null,
      "outputs": [
        {
          "output_type": "execute_result",
          "data": {
            "text/plain": [
              "[19.95765690774438, 1836.959714117329]"
            ]
          },
          "metadata": {},
          "execution_count": 84
        }
      ]
    },
    {
      "cell_type": "code",
      "source": [
        "Plot_unit(pred_mean = pred_test_id[3], pred_std = pred_test_id[4], product_id = 4, test_dataset =  test_dataset, sequence_length = sequence_length)"
      ],
      "metadata": {
        "colab": {
          "base_uri": "https://localhost:8080/",
          "height": 416
        },
        "id": "oY25G7A71DPL",
        "outputId": "95718d92-831f-4f9a-a432-2a2c74e2c3e0"
      },
      "execution_count": null,
      "outputs": [
        {
          "output_type": "display_data",
          "data": {
            "text/plain": [
              "<Figure size 792x432 with 1 Axes>"
            ],
            "image/png": "[encoded data removed]"
          },
          "metadata": {}
        },
        {
          "output_type": "display_data",
          "data": {
            "text/plain": [
              "<Figure size 432x288 with 0 Axes>"
            ]
          },
          "metadata": {}
        }
      ]
    },
    {
      "cell_type": "code",
      "source": [
        "pd.DataFrame(pred_test_id[1].reshape(T,pred_test_id[1].shape[1])).to_csv(\"Output/RW18_RUL.csv\")"
      ],
      "metadata": {
        "id": "W32dtHLgzjqH"
      },
      "execution_count": null,
      "outputs": []
    },
    {
      "cell_type": "markdown",
      "source": [
        "## 维修策略"
      ],
      "metadata": {
        "id": "OBZVlLI02l31"
      }
    },
    {
      "cell_type": "code",
      "source": [
        "num1 = 500\n",
        "cp = 100 # 预测性维修成本\n",
        "cc = 500 # 修正性维修成本\n",
        "cf = 5  # 剩余使用价值浪费造成的成本\n",
        "cos = 10 # 没有库存而进行维修造成的成本\n",
        "cq = 0.1 # 库存成本\n",
        "L = 20 #预定时间"
      ],
      "metadata": {
        "id": "_saUFAhKMWZT"
      },
      "execution_count": null,
      "outputs": []
    },
    {
      "cell_type": "code",
      "source": [
        "# 维修策略\n",
        "def static_PdM_cost(current_time, K, dat,cp, cc, cf, cos , cq, L,sequence_length):\n",
        "  m_re_all = [0,0,0,0]\n",
        "  future_time = dat.shape[1] + K #这里的40也要进行变化\n",
        "  rul_time = dat[:,current_time] \n",
        "  for i in range(current_time,future_time):\n",
        "    DT = i - current_time\n",
        "    DN = ((cc + cos) * np.mean(rul_time <= (DT+1)))/(i+1)\n",
        "    R = (cp + cf * np.mean(rul_time > DT))/i\n",
        "    # DN = (((cc + cos * delta[i+1] + (1 - delta[i])*cq)) * np.mean(rul_time <= (DT+1))) #/(i+1)\n",
        "    # R = (cp + cos * delta[i] + cf * np.mean(rul_time > DT)) #/i\n",
        "    m_re_all = np.vstack((m_re_all,[i,DN,R,np.mean(rul_time <= DT)]))\n",
        "    if R >= DN:\n",
        "      t_best = i # DN的最后一个时间，+1就是R的时间\n",
        "  m_re_all = m_re_all[1:] # 对应变量的新指标\n",
        "  m_re_all = pd.DataFrame(m_re_all,columns=['Cycle', 'DN', 'R','CDF'])\n",
        "  m_re_all['R or DN'] = np.where((m_re_all['DN'] < m_re_all['R'])*1 == 1,\"DN\",\"R\")\n",
        "  t_best = t_best + 1\n",
        "  t_order = t_best - L\n",
        "  t_best \n",
        "  return [t_best + sequence_length, t_order +sequence_length], m_re_all, rul_time\n",
        "  "
      ],
      "metadata": {
        "id": "EMfqDgZg2sZR"
      },
      "execution_count": null,
      "outputs": []
    },
    {
      "cell_type": "code",
      "source": [
        "def dynamic_PdM_constraint_cost(current_time, scheme, cp, cc, cf, cos, cq, L, K, y_pred):\n",
        "  # 带约束的PdM框架\n",
        "  const_alpha = const_beta = []\n",
        "  optimal_time = [0,0,0]\n",
        "  for j in range(current_time,y_pred.shape[1]):\n",
        "    # 假设成本会随时间变化\n",
        "    static_pdm = static_PdM_cost(current_time = j, K = K, dat = y_pred,sequence_length = sequence_length,\n",
        "                            cp = cp, cc = cc, cf = cf, cos = cos, cq = cq, L = L)\n",
        "    t_tentative_best = static_pdm[0][0]\n",
        "    rul_time = y_pred[:,j] \n",
        "    # 加入约束条件，求 T^*_m，T^*_o。\n",
        "    if t_tentative_best > scheme[0] and t_tentative_best < scheme[1]: #在不能维修的时间框内/这里跟论文中的相反\n",
        "      DT1 = scheme[0] - j \n",
        "      DT2 = scheme[1] - j \n",
        "      const_alpha = [(cp[j] + cf[j] * np.mean(rul_time > DT1))/ scheme[0],((cc[j] + cos[j]) * np.mean(rul_time <= (scheme[1])))/(scheme[1])] #计算ta的成本率\n",
        "      const_beta = [(cp[j] + cf[j] * np.mean(rul_time > DT2))/ scheme[1],((cc[j] + cos[j]) * np.mean(rul_time <= (scheme[1]+1)))/(scheme[1]+1)] #计算tb的成本率\n",
        "      t_best = np.where(const_alpha.index(min(const_alpha)) == 0,scheme[0],scheme[1]) #选择最优时间\n",
        "      t_order = t_best - L\n",
        "    else:   \n",
        "      t_best = t_tentative_best\n",
        "      t_order = t_best - L\n",
        "    optimal_time = np.vstack((optimal_time,[j,t_best,t_order]))\n",
        "  optimal_time = optimal_time[1:]\n",
        "  optimal_time = pd.DataFrame(optimal_time,columns=['Cycle', 'T_m','T_o']) #, 'T_o'\n",
        "  optimal_time['T_o'][0] = optimal_time['T_m'][0] - L\n",
        "  optimal_time['T_o'][1] = np.floor(np.mean(optimal_time['T_m'][0:2]) - L)\n",
        "  optimal_time['T_o'][2:] = np.floor([np.mean(optimal_time['T_m'][i-2:(i+1)]) - L for i in range(2,(pred_test_id[1].shape[1] - current_time))])\n",
        "  \n",
        "  return optimal_time + sequence_length"
      ],
      "metadata": {
        "id": "8YK82zvyPIiB"
      },
      "execution_count": null,
      "outputs": []
    },
    {
      "cell_type": "code",
      "source": [
        "sta_PdM = static_PdM_cost(current_time = 51, K = 30, dat = pred_test_id[1], sequence_length =  sequence_length,\n",
        "                        cp = cp, cc = cc, cf = cf, cos = cos, cq = cq, L = L)"
      ],
      "metadata": {
        "id": "w0IXnkdy2wkd"
      },
      "execution_count": null,
      "outputs": []
    },
    {
      "cell_type": "code",
      "source": [
        "sta_PdM[1]"
      ],
      "metadata": {
        "colab": {
          "base_uri": "https://localhost:8080/",
          "height": 655
        },
        "id": "cH0aFMt3GKoB",
        "outputId": "83a4c16a-1d19-463e-b5b1-9ee939201e3b"
      },
      "execution_count": null,
      "outputs": [
        {
          "output_type": "execute_result",
          "data": {
            "text/plain": [
              "     Cycle        DN         R   CDF R or DN\n",
              "0     51.0  0.000000  2.058824  0.00      DN\n",
              "1     52.0  0.000000  2.019231  0.00      DN\n",
              "2     53.0  0.000000  1.981132  0.00      DN\n",
              "3     54.0  0.000000  1.944444  0.00      DN\n",
              "4     55.0  0.000000  1.909091  0.00      DN\n",
              "..     ...       ...       ...   ...     ...\n",
              "132  183.0  0.859239  0.566393  0.27       R\n",
              "133  184.0  0.937297  0.562228  0.31       R\n",
              "134  185.0  1.014516  0.558378  0.34       R\n",
              "135  186.0  1.063636  0.554570  0.37       R\n",
              "136  187.0  1.166489  0.551070  0.39       R\n",
              "\n",
              "[137 rows x 5 columns]"
            ],
            "text/html": [
              "\n",
              "  <div id=\"df-3e59549d-2628-48f4-94f8-1f451e5bb245\">\n",
              "    <div class=\"colab-df-container\">\n",
              "      <div>\n",
              "<style scoped>\n",
              "    .dataframe tbody tr th:only-of-type {\n",
              "        vertical-align: middle;\n",
              "    }\n",
              "\n",
              "    .dataframe tbody tr th {\n",
              "        vertical-align: top;\n",
              "    }\n",
              "\n",
              "    .dataframe thead th {\n",
              "        text-align: right;\n",
              "    }\n",
              "</style>\n",
              "<table border=\"1\" class=\"dataframe\">\n",
              "  <thead>\n",
              "    <tr style=\"text-align: right;\">\n",
              "      <th></th>\n",
              "      <th>Cycle</th>\n",
              "      <th>DN</th>\n",
              "      <th>R</th>\n",
              "      <th>CDF</th>\n",
              "      <th>R or DN</th>\n",
              "    </tr>\n",
              "  </thead>\n",
              "  <tbody>\n",
              "    <tr>\n",
              "      <th>0</th>\n",
              "      <td>51.0</td>\n",
              "      <td>0.000000</td>\n",
              "      <td>2.058824</td>\n",
              "      <td>0.00</td>\n",
              "      <td>DN</td>\n",
              "    </tr>\n",
              "    <tr>\n",
              "      <th>1</th>\n",
              "      <td>52.0</td>\n",
              "      <td>0.000000</td>\n",
              "      <td>2.019231</td>\n",
              "      <td>0.00</td>\n",
              "      <td>DN</td>\n",
              "    </tr>\n",
              "    <tr>\n",
              "      <th>2</th>\n",
              "      <td>53.0</td>\n",
              "      <td>0.000000</td>\n",
              "      <td>1.981132</td>\n",
              "      <td>0.00</td>\n",
              "      <td>DN</td>\n",
              "    </tr>\n",
              "    <tr>\n",
              "      <th>3</th>\n",
              "      <td>54.0</td>\n",
              "      <td>0.000000</td>\n",
              "      <td>1.944444</td>\n",
              "      <td>0.00</td>\n",
              "      <td>DN</td>\n",
              "    </tr>\n",
              "    <tr>\n",
              "      <th>4</th>\n",
              "      <td>55.0</td>\n",
              "      <td>0.000000</td>\n",
              "      <td>1.909091</td>\n",
              "      <td>0.00</td>\n",
              "      <td>DN</td>\n",
              "    </tr>\n",
              "    <tr>\n",
              "      <th>...</th>\n",
              "      <td>...</td>\n",
              "      <td>...</td>\n",
              "      <td>...</td>\n",
              "      <td>...</td>\n",
              "      <td>...</td>\n",
              "    </tr>\n",
              "    <tr>\n",
              "      <th>132</th>\n",
              "      <td>183.0</td>\n",
              "      <td>0.859239</td>\n",
              "      <td>0.566393</td>\n",
              "      <td>0.27</td>\n",
              "      <td>R</td>\n",
              "    </tr>\n",
              "    <tr>\n",
              "      <th>133</th>\n",
              "      <td>184.0</td>\n",
              "      <td>0.937297</td>\n",
              "      <td>0.562228</td>\n",
              "      <td>0.31</td>\n",
              "      <td>R</td>\n",
              "    </tr>\n",
              "    <tr>\n",
              "      <th>134</th>\n",
              "      <td>185.0</td>\n",
              "      <td>1.014516</td>\n",
              "      <td>0.558378</td>\n",
              "      <td>0.34</td>\n",
              "      <td>R</td>\n",
              "    </tr>\n",
              "    <tr>\n",
              "      <th>135</th>\n",
              "      <td>186.0</td>\n",
              "      <td>1.063636</td>\n",
              "      <td>0.554570</td>\n",
              "      <td>0.37</td>\n",
              "      <td>R</td>\n",
              "    </tr>\n",
              "    <tr>\n",
              "      <th>136</th>\n",
              "      <td>187.0</td>\n",
              "      <td>1.166489</td>\n",
              "      <td>0.551070</td>\n",
              "      <td>0.39</td>\n",
              "      <td>R</td>\n",
              "    </tr>\n",
              "  </tbody>\n",
              "</table>\n",
              "<p>137 rows × 5 columns</p>\n",
              "</div>\n",
              "      <button class=\"colab-df-convert\" onclick=\"convertToInteractive('df-3e59549d-2628-48f4-94f8-1f451e5bb245')\"\n",
              "              title=\"Convert this dataframe to an interactive table.\"\n",
              "              style=\"display:none;\">\n",
              "        \n",
              "  <svg xmlns=\"http://www.w3.org/2000/svg\" height=\"24px\"viewBox=\"0 0 24 24\"\n",
              "       width=\"24px\">\n",
              "    <path d=\"M0 0h24v24H0V0z\" fill=\"none\"/>\n",
              "    <path d=\"M18.56 5.44l.94 2.06.94-2.06 2.06-.94-2.06-.94-.94-2.06-.94 2.06-2.06.94zm-11 1L8.5 8.5l.94-2.06 2.06-.94-2.06-.94L8.5 2.5l-.94 2.06-2.06.94zm10 10l.94 2.06.94-2.06 2.06-.94-2.06-.94-.94-2.06-.94 2.06-2.06.94z\"/><path d=\"M17.41 7.96l-1.37-1.37c-.4-.4-.92-.59-1.43-.59-.52 0-1.04.2-1.43.59L10.3 9.45l-7.72 7.72c-.78.78-.78 2.05 0 2.83L4 21.41c.39.39.9.59 1.41.59.51 0 1.02-.2 1.41-.59l7.78-7.78 2.81-2.81c.8-.78.8-2.07 0-2.86zM5.41 20L4 18.59l7.72-7.72 1.47 1.35L5.41 20z\"/>\n",
              "  </svg>\n",
              "      </button>\n",
              "      \n",
              "  <style>\n",
              "    .colab-df-container {\n",
              "      display:flex;\n",
              "      flex-wrap:wrap;\n",
              "      gap: 12px;\n",
              "    }\n",
              "\n",
              "    .colab-df-convert {\n",
              "      background-color: #E8F0FE;\n",
              "      border: none;\n",
              "      border-radius: 50%;\n",
              "      cursor: pointer;\n",
              "      display: none;\n",
              "      fill: #1967D2;\n",
              "      height: 32px;\n",
              "      padding: 0 0 0 0;\n",
              "      width: 32px;\n",
              "    }\n",
              "\n",
              "    .colab-df-convert:hover {\n",
              "      background-color: #E2EBFA;\n",
              "      box-shadow: 0px 1px 2px rgba(60, 64, 67, 0.3), 0px 1px 3px 1px rgba(60, 64, 67, 0.15);\n",
              "      fill: #174EA6;\n",
              "    }\n",
              "\n",
              "    [theme=dark] .colab-df-convert {\n",
              "      background-color: #3B4455;\n",
              "      fill: #D2E3FC;\n",
              "    }\n",
              "\n",
              "    [theme=dark] .colab-df-convert:hover {\n",
              "      background-color: #434B5C;\n",
              "      box-shadow: 0px 1px 3px 1px rgba(0, 0, 0, 0.15);\n",
              "      filter: drop-shadow(0px 1px 2px rgba(0, 0, 0, 0.3));\n",
              "      fill: #FFFFFF;\n",
              "    }\n",
              "  </style>\n",
              "\n",
              "      <script>\n",
              "        const buttonEl =\n",
              "          document.querySelector('#df-3e59549d-2628-48f4-94f8-1f451e5bb245 button.colab-df-convert');\n",
              "        buttonEl.style.display =\n",
              "          google.colab.kernel.accessAllowed ? 'block' : 'none';\n",
              "\n",
              "        async function convertToInteractive(key) {\n",
              "          const element = document.querySelector('#df-3e59549d-2628-48f4-94f8-1f451e5bb245');\n",
              "          const dataTable =\n",
              "            await google.colab.kernel.invokeFunction('convertToInteractive',\n",
              "                                                     [key], {});\n",
              "          if (!dataTable) return;\n",
              "\n",
              "          const docLinkHtml = 'Like what you see? Visit the ' +\n",
              "            '<a target=\"_blank\" href=https://colab.research.google.com/notebooks/data_table.ipynb>data table notebook</a>'\n",
              "            + ' to learn more about interactive tables.';\n",
              "          element.innerHTML = '';\n",
              "          dataTable['output_type'] = 'display_data';\n",
              "          await google.colab.output.renderOutput(dataTable, element);\n",
              "          const docLink = document.createElement('div');\n",
              "          docLink.innerHTML = docLinkHtml;\n",
              "          element.appendChild(docLink);\n",
              "        }\n",
              "      </script>\n",
              "    </div>\n",
              "  </div>\n",
              "  "
            ]
          },
          "metadata": {},
          "execution_count": 90
        }
      ]
    },
    {
      "cell_type": "code",
      "source": [
        "sta_PdM[0]"
      ],
      "metadata": {
        "colab": {
          "base_uri": "https://localhost:8080/"
        },
        "id": "2EAFnSZ9GN0O",
        "outputId": "ec209fe9-0560-4aca-a502-13fa3a956823"
      },
      "execution_count": null,
      "outputs": [
        {
          "output_type": "execute_result",
          "data": {
            "text/plain": [
              "[186, 166]"
            ]
          },
          "metadata": {},
          "execution_count": 91
        }
      ]
    },
    {
      "cell_type": "code",
      "source": [
        "Scenario1 = dynamic_PdM_constraint_cost(current_time = 50, scheme = [90-25,100-25], L = 20, K = 40, y_pred = pred_test_id[1],\n",
        "                                        cp = cp, cc = cc, cf = cf, cos = cos, cq = cq) #Scenario 1\n",
        "Scenario1"
      ],
      "metadata": {
        "colab": {
          "base_uri": "https://localhost:8080/",
          "height": 424
        },
        "id": "Q6GCaNC9PkLt",
        "outputId": "7db1bb9e-9dcd-4b99-a90d-cb6ebfc73fe5"
      },
      "execution_count": null,
      "outputs": [
        {
          "output_type": "execute_result",
          "data": {
            "text/plain": [
              "     Cycle  T_m    T_o\n",
              "0       60  195  175.0\n",
              "1       61  196  175.0\n",
              "2       62  196  175.0\n",
              "3       63  201  177.0\n",
              "4       64  194  177.0\n",
              "..     ...  ...    ...\n",
              "103    163  181  160.0\n",
              "104    164  182  161.0\n",
              "105    165  184  162.0\n",
              "106    166  185  163.0\n",
              "107    167  186  165.0\n",
              "\n",
              "[108 rows x 3 columns]"
            ],
            "text/html": [
              "\n",
              "  <div id=\"df-fc499e5f-735d-48e4-80dc-7cf4e4d69e5a\">\n",
              "    <div class=\"colab-df-container\">\n",
              "      <div>\n",
              "<style scoped>\n",
              "    .dataframe tbody tr th:only-of-type {\n",
              "        vertical-align: middle;\n",
              "    }\n",
              "\n",
              "    .dataframe tbody tr th {\n",
              "        vertical-align: top;\n",
              "    }\n",
              "\n",
              "    .dataframe thead th {\n",
              "        text-align: right;\n",
              "    }\n",
              "</style>\n",
              "<table border=\"1\" class=\"dataframe\">\n",
              "  <thead>\n",
              "    <tr style=\"text-align: right;\">\n",
              "      <th></th>\n",
              "      <th>Cycle</th>\n",
              "      <th>T_m</th>\n",
              "      <th>T_o</th>\n",
              "    </tr>\n",
              "  </thead>\n",
              "  <tbody>\n",
              "    <tr>\n",
              "      <th>0</th>\n",
              "      <td>60</td>\n",
              "      <td>195</td>\n",
              "      <td>175.0</td>\n",
              "    </tr>\n",
              "    <tr>\n",
              "      <th>1</th>\n",
              "      <td>61</td>\n",
              "      <td>196</td>\n",
              "      <td>175.0</td>\n",
              "    </tr>\n",
              "    <tr>\n",
              "      <th>2</th>\n",
              "      <td>62</td>\n",
              "      <td>196</td>\n",
              "      <td>175.0</td>\n",
              "    </tr>\n",
              "    <tr>\n",
              "      <th>3</th>\n",
              "      <td>63</td>\n",
              "      <td>201</td>\n",
              "      <td>177.0</td>\n",
              "    </tr>\n",
              "    <tr>\n",
              "      <th>4</th>\n",
              "      <td>64</td>\n",
              "      <td>194</td>\n",
              "      <td>177.0</td>\n",
              "    </tr>\n",
              "    <tr>\n",
              "      <th>...</th>\n",
              "      <td>...</td>\n",
              "      <td>...</td>\n",
              "      <td>...</td>\n",
              "    </tr>\n",
              "    <tr>\n",
              "      <th>103</th>\n",
              "      <td>163</td>\n",
              "      <td>181</td>\n",
              "      <td>160.0</td>\n",
              "    </tr>\n",
              "    <tr>\n",
              "      <th>104</th>\n",
              "      <td>164</td>\n",
              "      <td>182</td>\n",
              "      <td>161.0</td>\n",
              "    </tr>\n",
              "    <tr>\n",
              "      <th>105</th>\n",
              "      <td>165</td>\n",
              "      <td>184</td>\n",
              "      <td>162.0</td>\n",
              "    </tr>\n",
              "    <tr>\n",
              "      <th>106</th>\n",
              "      <td>166</td>\n",
              "      <td>185</td>\n",
              "      <td>163.0</td>\n",
              "    </tr>\n",
              "    <tr>\n",
              "      <th>107</th>\n",
              "      <td>167</td>\n",
              "      <td>186</td>\n",
              "      <td>165.0</td>\n",
              "    </tr>\n",
              "  </tbody>\n",
              "</table>\n",
              "<p>108 rows × 3 columns</p>\n",
              "</div>\n",
              "      <button class=\"colab-df-convert\" onclick=\"convertToInteractive('df-fc499e5f-735d-48e4-80dc-7cf4e4d69e5a')\"\n",
              "              title=\"Convert this dataframe to an interactive table.\"\n",
              "              style=\"display:none;\">\n",
              "        \n",
              "  <svg xmlns=\"http://www.w3.org/2000/svg\" height=\"24px\"viewBox=\"0 0 24 24\"\n",
              "       width=\"24px\">\n",
              "    <path d=\"M0 0h24v24H0V0z\" fill=\"none\"/>\n",
              "    <path d=\"M18.56 5.44l.94 2.06.94-2.06 2.06-.94-2.06-.94-.94-2.06-.94 2.06-2.06.94zm-11 1L8.5 8.5l.94-2.06 2.06-.94-2.06-.94L8.5 2.5l-.94 2.06-2.06.94zm10 10l.94 2.06.94-2.06 2.06-.94-2.06-.94-.94-2.06-.94 2.06-2.06.94z\"/><path d=\"M17.41 7.96l-1.37-1.37c-.4-.4-.92-.59-1.43-.59-.52 0-1.04.2-1.43.59L10.3 9.45l-7.72 7.72c-.78.78-.78 2.05 0 2.83L4 21.41c.39.39.9.59 1.41.59.51 0 1.02-.2 1.41-.59l7.78-7.78 2.81-2.81c.8-.78.8-2.07 0-2.86zM5.41 20L4 18.59l7.72-7.72 1.47 1.35L5.41 20z\"/>\n",
              "  </svg>\n",
              "      </button>\n",
              "      \n",
              "  <style>\n",
              "    .colab-df-container {\n",
              "      display:flex;\n",
              "      flex-wrap:wrap;\n",
              "      gap: 12px;\n",
              "    }\n",
              "\n",
              "    .colab-df-convert {\n",
              "      background-color: #E8F0FE;\n",
              "      border: none;\n",
              "      border-radius: 50%;\n",
              "      cursor: pointer;\n",
              "      display: none;\n",
              "      fill: #1967D2;\n",
              "      height: 32px;\n",
              "      padding: 0 0 0 0;\n",
              "      width: 32px;\n",
              "    }\n",
              "\n",
              "    .colab-df-convert:hover {\n",
              "      background-color: #E2EBFA;\n",
              "      box-shadow: 0px 1px 2px rgba(60, 64, 67, 0.3), 0px 1px 3px 1px rgba(60, 64, 67, 0.15);\n",
              "      fill: #174EA6;\n",
              "    }\n",
              "\n",
              "    [theme=dark] .colab-df-convert {\n",
              "      background-color: #3B4455;\n",
              "      fill: #D2E3FC;\n",
              "    }\n",
              "\n",
              "    [theme=dark] .colab-df-convert:hover {\n",
              "      background-color: #434B5C;\n",
              "      box-shadow: 0px 1px 3px 1px rgba(0, 0, 0, 0.15);\n",
              "      filter: drop-shadow(0px 1px 2px rgba(0, 0, 0, 0.3));\n",
              "      fill: #FFFFFF;\n",
              "    }\n",
              "  </style>\n",
              "\n",
              "      <script>\n",
              "        const buttonEl =\n",
              "          document.querySelector('#df-fc499e5f-735d-48e4-80dc-7cf4e4d69e5a button.colab-df-convert');\n",
              "        buttonEl.style.display =\n",
              "          google.colab.kernel.accessAllowed ? 'block' : 'none';\n",
              "\n",
              "        async function convertToInteractive(key) {\n",
              "          const element = document.querySelector('#df-fc499e5f-735d-48e4-80dc-7cf4e4d69e5a');\n",
              "          const dataTable =\n",
              "            await google.colab.kernel.invokeFunction('convertToInteractive',\n",
              "                                                     [key], {});\n",
              "          if (!dataTable) return;\n",
              "\n",
              "          const docLinkHtml = 'Like what you see? Visit the ' +\n",
              "            '<a target=\"_blank\" href=https://colab.research.google.com/notebooks/data_table.ipynb>data table notebook</a>'\n",
              "            + ' to learn more about interactive tables.';\n",
              "          element.innerHTML = '';\n",
              "          dataTable['output_type'] = 'display_data';\n",
              "          await google.colab.output.renderOutput(dataTable, element);\n",
              "          const docLink = document.createElement('div');\n",
              "          docLink.innerHTML = docLinkHtml;\n",
              "          element.appendChild(docLink);\n",
              "        }\n",
              "      </script>\n",
              "    </div>\n",
              "  </div>\n",
              "  "
            ]
          },
          "metadata": {},
          "execution_count": 93
        }
      ]
    },
    {
      "cell_type": "code",
      "source": [
        "Scenario1 = dynamic_PdM_constraint(current_time = 150, scheme = [180-25,181-25], L = 20, K = 40, y_pred = pred_test_id[1]) #Scenario 1\n",
        "Scenario1\n",
        "Scenario2 = dynamic_PdM_constraint(current_time = 150, scheme = [201-25,204-25], L = 20, K = 40, y_pred = pred_test_id[1]) #Scenario 2\n",
        "Scenario2 \n",
        "Scenario3 = dynamic_PdM_constraint(current_time = 150, scheme = [200-25,220-25], L = 20, K = 40, y_pred = pred_test_id[1]) #Scenario 3\n",
        "Scenario3"
      ],
      "metadata": {
        "colab": {
          "base_uri": "https://localhost:8080/",
          "height": 244
        },
        "id": "2rOJV2gHPbEs",
        "outputId": "ec22863d-4659-4dc5-b57a-0a34dc822fea"
      },
      "execution_count": null,
      "outputs": [
        {
          "output_type": "error",
          "ename": "NameError",
          "evalue": "ignored",
          "traceback": [
            "\u001b[0;31m---------------------------------------------------------------------------\u001b[0m",
            "\u001b[0;31mNameError\u001b[0m                                 Traceback (most recent call last)",
            "\u001b[0;32m<ipython-input-94-dec453d2b708>\u001b[0m in \u001b[0;36m<module>\u001b[0;34m\u001b[0m\n\u001b[0;32m----> 1\u001b[0;31m \u001b[0mScenario1\u001b[0m \u001b[0;34m=\u001b[0m \u001b[0mdynamic_PdM_constraint\u001b[0m\u001b[0;34m(\u001b[0m\u001b[0mcurrent_time\u001b[0m \u001b[0;34m=\u001b[0m \u001b[0;36m150\u001b[0m\u001b[0;34m,\u001b[0m \u001b[0mscheme\u001b[0m \u001b[0;34m=\u001b[0m \u001b[0;34m[\u001b[0m\u001b[0;36m180\u001b[0m\u001b[0;34m-\u001b[0m\u001b[0;36m25\u001b[0m\u001b[0;34m,\u001b[0m\u001b[0;36m181\u001b[0m\u001b[0;34m-\u001b[0m\u001b[0;36m25\u001b[0m\u001b[0;34m]\u001b[0m\u001b[0;34m,\u001b[0m \u001b[0mL\u001b[0m \u001b[0;34m=\u001b[0m \u001b[0;36m20\u001b[0m\u001b[0;34m,\u001b[0m \u001b[0mK\u001b[0m \u001b[0;34m=\u001b[0m \u001b[0;36m40\u001b[0m\u001b[0;34m,\u001b[0m \u001b[0my_pred\u001b[0m \u001b[0;34m=\u001b[0m \u001b[0mpred_test_id\u001b[0m\u001b[0;34m[\u001b[0m\u001b[0;36m1\u001b[0m\u001b[0;34m]\u001b[0m\u001b[0;34m)\u001b[0m \u001b[0;31m#Scenario 1\u001b[0m\u001b[0;34m\u001b[0m\u001b[0;34m\u001b[0m\u001b[0m\n\u001b[0m\u001b[1;32m      2\u001b[0m \u001b[0mScenario1\u001b[0m\u001b[0;34m\u001b[0m\u001b[0;34m\u001b[0m\u001b[0m\n\u001b[1;32m      3\u001b[0m \u001b[0mScenario2\u001b[0m \u001b[0;34m=\u001b[0m \u001b[0mdynamic_PdM_constraint\u001b[0m\u001b[0;34m(\u001b[0m\u001b[0mcurrent_time\u001b[0m \u001b[0;34m=\u001b[0m \u001b[0;36m150\u001b[0m\u001b[0;34m,\u001b[0m \u001b[0mscheme\u001b[0m \u001b[0;34m=\u001b[0m \u001b[0;34m[\u001b[0m\u001b[0;36m201\u001b[0m\u001b[0;34m-\u001b[0m\u001b[0;36m25\u001b[0m\u001b[0;34m,\u001b[0m\u001b[0;36m204\u001b[0m\u001b[0;34m-\u001b[0m\u001b[0;36m25\u001b[0m\u001b[0;34m]\u001b[0m\u001b[0;34m,\u001b[0m \u001b[0mL\u001b[0m \u001b[0;34m=\u001b[0m \u001b[0;36m20\u001b[0m\u001b[0;34m,\u001b[0m \u001b[0mK\u001b[0m \u001b[0;34m=\u001b[0m \u001b[0;36m40\u001b[0m\u001b[0;34m,\u001b[0m \u001b[0my_pred\u001b[0m \u001b[0;34m=\u001b[0m \u001b[0mpred_test_id\u001b[0m\u001b[0;34m[\u001b[0m\u001b[0;36m1\u001b[0m\u001b[0;34m]\u001b[0m\u001b[0;34m)\u001b[0m \u001b[0;31m#Scenario 2\u001b[0m\u001b[0;34m\u001b[0m\u001b[0;34m\u001b[0m\u001b[0m\n\u001b[1;32m      4\u001b[0m \u001b[0mScenario2\u001b[0m\u001b[0;34m\u001b[0m\u001b[0;34m\u001b[0m\u001b[0m\n\u001b[1;32m      5\u001b[0m \u001b[0mScenario3\u001b[0m \u001b[0;34m=\u001b[0m \u001b[0mdynamic_PdM_constraint\u001b[0m\u001b[0;34m(\u001b[0m\u001b[0mcurrent_time\u001b[0m \u001b[0;34m=\u001b[0m \u001b[0;36m150\u001b[0m\u001b[0;34m,\u001b[0m \u001b[0mscheme\u001b[0m \u001b[0;34m=\u001b[0m \u001b[0;34m[\u001b[0m\u001b[0;36m200\u001b[0m\u001b[0;34m-\u001b[0m\u001b[0;36m25\u001b[0m\u001b[0;34m,\u001b[0m\u001b[0;36m220\u001b[0m\u001b[0;34m-\u001b[0m\u001b[0;36m25\u001b[0m\u001b[0;34m]\u001b[0m\u001b[0;34m,\u001b[0m \u001b[0mL\u001b[0m \u001b[0;34m=\u001b[0m \u001b[0;36m20\u001b[0m\u001b[0;34m,\u001b[0m \u001b[0mK\u001b[0m \u001b[0;34m=\u001b[0m \u001b[0;36m40\u001b[0m\u001b[0;34m,\u001b[0m \u001b[0my_pred\u001b[0m \u001b[0;34m=\u001b[0m \u001b[0mpred_test_id\u001b[0m\u001b[0;34m[\u001b[0m\u001b[0;36m1\u001b[0m\u001b[0;34m]\u001b[0m\u001b[0;34m)\u001b[0m \u001b[0;31m#Scenario 3\u001b[0m\u001b[0;34m\u001b[0m\u001b[0;34m\u001b[0m\u001b[0m\n",
            "\u001b[0;31mNameError\u001b[0m: name 'dynamic_PdM_constraint' is not defined"
          ]
        }
      ]
    },
    {
      "cell_type": "code",
      "source": [
        "result = pd.concat([Scenario1, Scenario2[['T_m','T_o']], Scenario3[['T_m','T_o']]], axis=1, join='inner')\n",
        "result # 表4"
      ],
      "metadata": {
        "id": "EFTc8ca1PgPc"
      },
      "execution_count": null,
      "outputs": []
    },
    {
      "cell_type": "code",
      "source": [
        "def fff(product_id,pred_test_id, const,T,cp,cos,cq,cf,cc,L,interval,real_cycle,sequence_length):\n",
        "    start_t = pred_test_id[1].shape[1] - interval\n",
        "    end_t = pred_test_id[1].shape[1]\n",
        "    optimal_time = [[0, 0, 0]]\n",
        "    constriant = [0]\n",
        "    opt_order = ten_main = opt_main = [0]\n",
        "    K = 40\n",
        "    for j in range(start_t, end_t):\n",
        "        m_re_all = [0, 0, 0, 0]\n",
        "        s0 = np.repeat(0, pred_test_id[1].shape[1])\n",
        "        delta = np.repeat(1, pred_test_id[1].shape[1])\n",
        "        future_time = pred_test_id[1].shape[1] + K  # 这里的40也要进行变化\n",
        "        rul_time = pred_test_id[1][:, j]\n",
        "        for i in range(j + 1, future_time):\n",
        "            # j时刻，未来各点的DN和R成本比较 公式7，8\n",
        "            DT = i - j\n",
        "            CFP = np.mean([rul_time[h] <= DT for h in range(0, T)])\n",
        "            DN = np.sum([(cc + cos) * np.mean([r <= rul_time[h] < (r + 1) for h in range(0, T)]) / (j + r) for r in\n",
        "                         range(0, DT + 1)])\n",
        "            R = np.sum([(cc + cos) * np.mean([r <= rul_time[h] < (r + 1) for h in range(0, T)]) / (j + r) for r in\n",
        "                        range(0, DT)]) + np.sum(\n",
        "                [np.mean([r <= rul_time[h] < (r + 1) for h in range(0, T)]) * (cp + cf * (r - DT) * 1) / (j + DT) for r\n",
        "                 in range(DT + 1, DT + K)])\n",
        "            m_re_all = np.vstack((m_re_all, [i, CFP, DN, R]))\n",
        "\n",
        "        m_re_all = m_re_all[1:]\n",
        "        t_best = m_re_all[np.where(m_re_all[:, 2] >= m_re_all[:, 3])[0][0], 0]  # 给出没有限制的最优维修时间（t_m） 公式9\n",
        "\n",
        "        # 加入维修约束 公式10\n",
        "        if any(t_best == const):  # 在维修窗口/点上，直接维修\n",
        "            t_best1 = t_best\n",
        "        else:  # 不再维修窗口上，计算边际点成本率\n",
        "            cats = np.digitize(t_best, const)\n",
        "            scheme = const[(cats - 1):(cats + 1)]\n",
        "            constriant = pd.DataFrame([[np.sum(\n",
        "                [(cc + cos) * np.mean([r <= rul_time[h] < (r + 1) for h in range(0, T)]) / (j + r) for r in\n",
        "                 range(0, scheme[1] - j)]), np.sum(\n",
        "                [(cc + cos) * np.mean([r <= rul_time[h] < (r + 1) for h in range(0, T)]) / (j + r) for r in\n",
        "                 range(0, scheme[0] - j)]) + np.sum(\n",
        "                [np.mean([r <= rul_time[h] < (r + 1) for h in range(0, T)]) * (cp + cf * (r - DT) * 1) / (j + DT) for r\n",
        "                 in range(scheme[0] - j + 1, scheme[0] - j + K)])],\n",
        "                                       [np.sum([(cc + cos) * np.mean(\n",
        "                                           [r <= rul_time[h] < (r + 1) for h in range(0, T)]) / (j + r) for r in\n",
        "                                                range(0, scheme[1] - j + 1)]), np.sum([(cc + cos) * np.mean(\n",
        "                                           [r <= rul_time[h] < (r + 1) for h in range(0, T)]) / (j + r) for r in\n",
        "                                                                                       range(0,scheme[1] - j)]) + np.sum([\n",
        "                                                                                                                           np.mean(\n",
        "                                                                                                                               [\n",
        "                                                                                                                                   r <=\n",
        "                                                                                                                                   rul_time[\n",
        "                                                                                                                                       h] < (\n",
        "                                                                                                                                               r + 1)\n",
        "                                                                                                                                   for\n",
        "                                                                                                                                   h\n",
        "                                                                                                                                   in\n",
        "                                                                                                                                   range(\n",
        "                                                                                                                                       0,\n",
        "                                                                                                                                       T)]) * (\n",
        "                                                                                                                                       cp + cf * (\n",
        "                                                                                                                                           r - DT) * 1) / (\n",
        "                                                                                                                                       j + DT)\n",
        "                                                                                                                           for\n",
        "                                                                                                                           r\n",
        "                                                                                                                           in\n",
        "                                                                                                                           range(\n",
        "                                                                                                                               scheme[\n",
        "                                                                                                                                   1] - j + 1,\n",
        "                                                                                                                               scheme[\n",
        "                                                                                                                                   1] - j + K)])]])\n",
        "            t_best1 = scheme[np.where(m_re_all[:, 0] >= m_re_all[:, 2])[0][0]]\n",
        "\n",
        "        # 当前时刻最优预定时间 公式11\n",
        "        if np.size(optimal_time, 0) == 1:\n",
        "            t_order1 = t_best1 - L\n",
        "        else:\n",
        "            t_order1 = np.floor(np.mean(pd.concat([pd.Series(optimal_time[1:, 1]), pd.Series(t_best1)]))) - L  # order优化\n",
        "\n",
        "        optimal_time = np.vstack((optimal_time, [j, t_best1, t_order1]))  # 表3\n",
        "\n",
        "        # 选择真正的预定时间点 公式12\n",
        "        if optimal_time[-1:, 0] >= optimal_time[-1:, 2] and opt_order == [0]:\n",
        "            opt_order = optimal_time[-1:, 0]\n",
        "            opt_order = opt_order[0]\n",
        "\n",
        "        # 调整真正的维修时间点 公式14,15,18\n",
        "        if opt_order != [0]:\n",
        "            if optimal_time[-1:, 0] < optimal_time[-1:, 1] and optimal_time[-1:, 0] == (opt_order + L):  # 第一种情况 b>a\n",
        "                a = optimal_time[-1:, 0][0].astype(int)  # / opt_order + L\n",
        "                b = optimal_time[-1:, 1][0].astype(int)\n",
        "                count = np.arange(a, b + 1, 1)\n",
        "                cou1 = np.array([any(i == const) for i in count])  # 提取出在维修窗口的点\n",
        "                ten_main = b\n",
        "                # 计算公式14 / 文中h=代码r,j不变\n",
        "                re = [np.sum(\n",
        "                    [(cc + cq * r) * np.mean([r <= rul_time[h] < (r + 1) for h in range(0, T)]) / (a + r) for r in\n",
        "                     range(0, j)])\n",
        "                      + np.sum(\n",
        "                    [np.mean([r <= rul_time[h] < (r + 1) for h in range(0, T)]) * (cp + cf * (r - j) + cq * j) / (a + j)\n",
        "                     for r in range(j + 1, j + K)]) for j in range(0, b - a + 1)]\n",
        "                opt_main = a + np.argwhere(re == np.min(np.array(re)[cou1]))  # 最优时间点\n",
        "                opt_main = opt_main[0, 0]\n",
        "                print(\"case 1\")\n",
        "                break\n",
        "            if optimal_time[-1:, 0] >= optimal_time[-1:, 1] and optimal_time[-1:, 0] < (opt_order + L):  # 第二种情况 b<a\n",
        "                a = optimal_time[-1:, 0][0].astype(int)  # / opt_order + L\n",
        "                b = optimal_time[-1:, 1][0].astype(int)\n",
        "                count = np.arange(b, a + 1, 1)\n",
        "                cou1 = np.array([any(i == const) for i in count])  # 提取出在维修窗口的点\n",
        "                # 计算公式15\n",
        "                re1 = [np.sum(\n",
        "                    [(cc + cos) * np.mean([r <= rul_time[h] < (r + 1) for h in range(0, T)]) / (b + r) for r in\n",
        "                     range(0, j)]) + np.sum(\n",
        "                    [np.mean([r <= rul_time[h] < (r + 1) for h in range(0, T)]) * (cp + cf * (r - j) + cos) / (b + j)\n",
        "                     for r in range(j + 1, j + K)]) for j in range(0, a - b)]  # 最后一项a需要另外算\n",
        "                C_b_a = np.sum(\n",
        "                    [(cc + cos) * np.mean([r <= rul_time[h] < (r + 1) for h in range(0, T)]) / (b + r) for r in\n",
        "                     range(0, a - b)]) + np.sum(\n",
        "                    [np.mean([r <= rul_time[h] < (r + 1) for h in range(0, T)]) * (cp + cf * (r - a + b)) / (a) for r in\n",
        "                     range(a - b + 1, a - b + K)])\n",
        "                re1.append(C_b_a)\n",
        "                opt_main = b + np.argwhere(re1 == np.min(np.array(re1)[cou1]))  # 最优时间点\n",
        "                opt_main = opt_main[0, 0]\n",
        "                print(\"case 2\")\n",
        "                ten_main = optimal_time[-1:, 1][0]\n",
        "                break\n",
        "            if optimal_time[-1:, 0] >= optimal_time[-1:, 1] and optimal_time[-1:, 0] == (opt_order + L):  # 第三种情况 b=a\n",
        "                # 计算公式18\n",
        "                opt_main = optimal_time[-1:, 0][0].astype(int)\n",
        "                ten_main = opt_main.astype(int)\n",
        "                print(\"case 3\")\n",
        "                break\n",
        "    # 找到公式 17 中的 sum(h*p_h|psi)/psi为最优维修点\n",
        "    #if np.array(opt_main) < real_cycle[product_id] - 25 and np.array(opt_main) != [0] and np.array(opt_main) != [25]:\n",
        "    #    psi = np.floor(np.sum([np.mean([r <= pred_test_id[1][:, opt_main][h] < (r + 1) for h in range(0, T)]) * r for r in range(0, 300)]))\n",
        "    #else:\n",
        "    #    psi = 0\n",
        "    psi = 0\n",
        "    # Table 3\n",
        "    optimal_time = pd.DataFrame(optimal_time[1:], columns=['Cycle', 'T_m', 'T_o'])\n",
        "    return [optimal_time + sequence_length], [product_id, opt_order + sequence_length, np.array(ten_main) + sequence_length, np.array(opt_main) + sequence_length,\n",
        "                                 real_cycle[product_id], psi]\n"
      ],
      "metadata": {
        "id": "fCRKZjPXJcob"
      },
      "execution_count": null,
      "outputs": []
    },
    {
      "cell_type": "code",
      "source": [
        "def case_choice(case,sequence_length):\n",
        "    # 剪掉25的，记得加回去\n",
        "    const = []\n",
        "    # 检测1\n",
        "    if case == 1:\n",
        "        const = np.arange(0, 400, 1) - sequence_length\n",
        "        # 检测2\n",
        "    elif case == 2:\n",
        "        const = np.asarray([np.arange(10 + 20 * i, 21 + 20 * i, 1) for i in range(0, 20)]) - sequence_length\n",
        "        const = const.flatten()\n",
        "    # 检测3\n",
        "    else:\n",
        "        const = np.arange(10, 360, 10) - sequence_length\n",
        "    return const"
      ],
      "metadata": {
        "id": "UieTvVNuPvlt"
      },
      "execution_count": null,
      "outputs": []
    },
    {
      "cell_type": "code",
      "source": [
        "case_choice(case=1,sequence_length=sequence_length)"
      ],
      "metadata": {
        "id": "RAZjrOPDSqJf"
      },
      "execution_count": null,
      "outputs": []
    },
    {
      "cell_type": "code",
      "source": [
        "#pred_test_id = Pred_test_id(nlayer=nlayer, product_id = 4, T=T, model=model, test_dataset=test_dataset,sequence_length=sequence_length, sequence_cols=sequence_cols)"
      ],
      "metadata": {
        "id": "8JkQ_u0vLX1j"
      },
      "execution_count": null,
      "outputs": []
    },
    {
      "cell_type": "code",
      "source": [
        "#Plot_unit(pred_mean = pred_test_id[3], pred_std = pred_test_id[4], product_id = 4, test_dataset =  test_dataset, sequence_length = sequence_length)"
      ],
      "metadata": {
        "id": "cAfN8uW-KyXM"
      },
      "execution_count": null,
      "outputs": []
    },
    {
      "cell_type": "code",
      "source": [
        "re1 = fff(product_id = 4,pred_test_id=pred_test_id, const=case_choice(case=1,sequence_length=sequence_length),\n",
        "          T=T,cp=cp,cos=cos,cq=cq,cf=cf,cc=cc,L=20,interval = 50,real_cycle = [0,124,108,167,96],sequence_length=sequence_length)"
      ],
      "metadata": {
        "colab": {
          "base_uri": "https://localhost:8080/"
        },
        "id": "c77kD5IIVd9F",
        "outputId": "bc797f33-7959-4352-e7e7-84149ffa9db4"
      },
      "execution_count": null,
      "outputs": [
        {
          "output_type": "stream",
          "name": "stdout",
          "text": [
            "case 1\n"
          ]
        }
      ]
    },
    {
      "cell_type": "code",
      "source": [
        "re2 = fff(product_id = 4,pred_test_id=pred_test_id, const=case_choice(case=2,sequence_length=sequence_length),\n",
        "          T=T,cp=cp,cos=cos,cq=cq,cf=cf,cc=cc,L=20,interval = 40,real_cycle = [0,124,108,167,96],sequence_length=sequence_length)"
      ],
      "metadata": {
        "colab": {
          "base_uri": "https://localhost:8080/"
        },
        "id": "5cGF1sQnVfAw",
        "outputId": "cc8ff05a-b6dd-4ea4-a68f-d69f8e63adf1"
      },
      "execution_count": null,
      "outputs": [
        {
          "output_type": "stream",
          "name": "stdout",
          "text": [
            "case 1\n"
          ]
        }
      ]
    },
    {
      "cell_type": "code",
      "source": [
        "re3 = fff(product_id = 4,pred_test_id=pred_test_id, const=case_choice(case=3,sequence_length=sequence_length),\n",
        "          T=T,cp=cp,cos=cos,cq=cq,cf=cf,cc=cc,L=20,interval = 30,real_cycle = [0,124,108,167,96],sequence_length=sequence_length)"
      ],
      "metadata": {
        "colab": {
          "base_uri": "https://localhost:8080/"
        },
        "id": "N_6sdMLZVgd7",
        "outputId": "b5310739-7554-43b5-9fa0-446efb1469c5"
      },
      "execution_count": null,
      "outputs": [
        {
          "output_type": "stream",
          "name": "stdout",
          "text": [
            "case 2\n"
          ]
        }
      ]
    },
    {
      "cell_type": "code",
      "source": [
        "re1[1]"
      ],
      "metadata": {
        "colab": {
          "base_uri": "https://localhost:8080/"
        },
        "id": "dR9tJ9iTS4q-",
        "outputId": "65714257-2acb-4686-9ed4-b3714b721778"
      },
      "execution_count": null,
      "outputs": [
        {
          "output_type": "execute_result",
          "data": {
            "text/plain": [
              "[4, 140.0, 169, 168, 96, 0]"
            ]
          },
          "metadata": {},
          "execution_count": 100
        }
      ]
    },
    {
      "cell_type": "code",
      "source": [
        "pd.DataFrame(np.vstack((re1[1],re2[1], re3[1])), columns=['id', 'O*', 'M', 'M*', 'f', 'psi'])"
      ],
      "metadata": {
        "colab": {
          "base_uri": "https://localhost:8080/",
          "height": 143
        },
        "id": "9ZREu0qaRO3r",
        "outputId": "64aa108f-141d-450e-af36-b7fdfc79ff26"
      },
      "execution_count": null,
      "outputs": [
        {
          "output_type": "execute_result",
          "data": {
            "text/plain": [
              "    id     O*      M     M*     f  psi\n",
              "0  4.0  140.0  169.0  168.0  96.0  0.0\n",
              "1  4.0  136.0  160.0  160.0  96.0  0.0\n",
              "2  4.0  138.0  150.0  150.0  96.0  0.0"
            ],
            "text/html": [
              "\n",
              "  <div id=\"df-345f83d1-dd4d-4037-9786-95bf2ed74876\">\n",
              "    <div class=\"colab-df-container\">\n",
              "      <div>\n",
              "<style scoped>\n",
              "    .dataframe tbody tr th:only-of-type {\n",
              "        vertical-align: middle;\n",
              "    }\n",
              "\n",
              "    .dataframe tbody tr th {\n",
              "        vertical-align: top;\n",
              "    }\n",
              "\n",
              "    .dataframe thead th {\n",
              "        text-align: right;\n",
              "    }\n",
              "</style>\n",
              "<table border=\"1\" class=\"dataframe\">\n",
              "  <thead>\n",
              "    <tr style=\"text-align: right;\">\n",
              "      <th></th>\n",
              "      <th>id</th>\n",
              "      <th>O*</th>\n",
              "      <th>M</th>\n",
              "      <th>M*</th>\n",
              "      <th>f</th>\n",
              "      <th>psi</th>\n",
              "    </tr>\n",
              "  </thead>\n",
              "  <tbody>\n",
              "    <tr>\n",
              "      <th>0</th>\n",
              "      <td>4.0</td>\n",
              "      <td>140.0</td>\n",
              "      <td>169.0</td>\n",
              "      <td>168.0</td>\n",
              "      <td>96.0</td>\n",
              "      <td>0.0</td>\n",
              "    </tr>\n",
              "    <tr>\n",
              "      <th>1</th>\n",
              "      <td>4.0</td>\n",
              "      <td>136.0</td>\n",
              "      <td>160.0</td>\n",
              "      <td>160.0</td>\n",
              "      <td>96.0</td>\n",
              "      <td>0.0</td>\n",
              "    </tr>\n",
              "    <tr>\n",
              "      <th>2</th>\n",
              "      <td>4.0</td>\n",
              "      <td>138.0</td>\n",
              "      <td>150.0</td>\n",
              "      <td>150.0</td>\n",
              "      <td>96.0</td>\n",
              "      <td>0.0</td>\n",
              "    </tr>\n",
              "  </tbody>\n",
              "</table>\n",
              "</div>\n",
              "      <button class=\"colab-df-convert\" onclick=\"convertToInteractive('df-345f83d1-dd4d-4037-9786-95bf2ed74876')\"\n",
              "              title=\"Convert this dataframe to an interactive table.\"\n",
              "              style=\"display:none;\">\n",
              "        \n",
              "  <svg xmlns=\"http://www.w3.org/2000/svg\" height=\"24px\"viewBox=\"0 0 24 24\"\n",
              "       width=\"24px\">\n",
              "    <path d=\"M0 0h24v24H0V0z\" fill=\"none\"/>\n",
              "    <path d=\"M18.56 5.44l.94 2.06.94-2.06 2.06-.94-2.06-.94-.94-2.06-.94 2.06-2.06.94zm-11 1L8.5 8.5l.94-2.06 2.06-.94-2.06-.94L8.5 2.5l-.94 2.06-2.06.94zm10 10l.94 2.06.94-2.06 2.06-.94-2.06-.94-.94-2.06-.94 2.06-2.06.94z\"/><path d=\"M17.41 7.96l-1.37-1.37c-.4-.4-.92-.59-1.43-.59-.52 0-1.04.2-1.43.59L10.3 9.45l-7.72 7.72c-.78.78-.78 2.05 0 2.83L4 21.41c.39.39.9.59 1.41.59.51 0 1.02-.2 1.41-.59l7.78-7.78 2.81-2.81c.8-.78.8-2.07 0-2.86zM5.41 20L4 18.59l7.72-7.72 1.47 1.35L5.41 20z\"/>\n",
              "  </svg>\n",
              "      </button>\n",
              "      \n",
              "  <style>\n",
              "    .colab-df-container {\n",
              "      display:flex;\n",
              "      flex-wrap:wrap;\n",
              "      gap: 12px;\n",
              "    }\n",
              "\n",
              "    .colab-df-convert {\n",
              "      background-color: #E8F0FE;\n",
              "      border: none;\n",
              "      border-radius: 50%;\n",
              "      cursor: pointer;\n",
              "      display: none;\n",
              "      fill: #1967D2;\n",
              "      height: 32px;\n",
              "      padding: 0 0 0 0;\n",
              "      width: 32px;\n",
              "    }\n",
              "\n",
              "    .colab-df-convert:hover {\n",
              "      background-color: #E2EBFA;\n",
              "      box-shadow: 0px 1px 2px rgba(60, 64, 67, 0.3), 0px 1px 3px 1px rgba(60, 64, 67, 0.15);\n",
              "      fill: #174EA6;\n",
              "    }\n",
              "\n",
              "    [theme=dark] .colab-df-convert {\n",
              "      background-color: #3B4455;\n",
              "      fill: #D2E3FC;\n",
              "    }\n",
              "\n",
              "    [theme=dark] .colab-df-convert:hover {\n",
              "      background-color: #434B5C;\n",
              "      box-shadow: 0px 1px 3px 1px rgba(0, 0, 0, 0.15);\n",
              "      filter: drop-shadow(0px 1px 2px rgba(0, 0, 0, 0.3));\n",
              "      fill: #FFFFFF;\n",
              "    }\n",
              "  </style>\n",
              "\n",
              "      <script>\n",
              "        const buttonEl =\n",
              "          document.querySelector('#df-345f83d1-dd4d-4037-9786-95bf2ed74876 button.colab-df-convert');\n",
              "        buttonEl.style.display =\n",
              "          google.colab.kernel.accessAllowed ? 'block' : 'none';\n",
              "\n",
              "        async function convertToInteractive(key) {\n",
              "          const element = document.querySelector('#df-345f83d1-dd4d-4037-9786-95bf2ed74876');\n",
              "          const dataTable =\n",
              "            await google.colab.kernel.invokeFunction('convertToInteractive',\n",
              "                                                     [key], {});\n",
              "          if (!dataTable) return;\n",
              "\n",
              "          const docLinkHtml = 'Like what you see? Visit the ' +\n",
              "            '<a target=\"_blank\" href=https://colab.research.google.com/notebooks/data_table.ipynb>data table notebook</a>'\n",
              "            + ' to learn more about interactive tables.';\n",
              "          element.innerHTML = '';\n",
              "          dataTable['output_type'] = 'display_data';\n",
              "          await google.colab.output.renderOutput(dataTable, element);\n",
              "          const docLink = document.createElement('div');\n",
              "          docLink.innerHTML = docLinkHtml;\n",
              "          element.appendChild(docLink);\n",
              "        }\n",
              "      </script>\n",
              "    </div>\n",
              "  </div>\n",
              "  "
            ]
          },
          "metadata": {},
          "execution_count": 103
        }
      ]
    }
  ]
}
