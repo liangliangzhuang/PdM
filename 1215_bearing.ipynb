{
  "nbformat": 4,
  "nbformat_minor": 0,
  "metadata": {
    "colab": {
      "provenance": [],
      "toc_visible": true,
      "authorship_tag": "ABX9TyNMPx1Stl9klrz9B7Dz9DlV",
      "include_colab_link": true
    },
    "kernelspec": {
      "name": "python3",
      "display_name": "Python 3"
    },
    "language_info": {
      "name": "python"
    }
  },
  "cells": [
    {
      "cell_type": "markdown",
      "metadata": {
        "id": "view-in-github",
        "colab_type": "text"
      },
      "source": [
        "<a href=\"https://colab.research.google.com/github/liangliangzhuang/PdM/blob/main/1215_bearing.ipynb\" target=\"_parent\"><img src=\"https://colab.research.google.com/assets/colab-badge.svg\" alt=\"Open In Colab\"/></a>"
      ]
    },
    {
      "cell_type": "markdown",
      "source": [
        "## 导入第三方库"
      ],
      "metadata": {
        "id": "6QdYRH1EHMSZ"
      }
    },
    {
      "cell_type": "code",
      "execution_count": 1,
      "metadata": {
        "colab": {
          "base_uri": "https://localhost:8080/"
        },
        "id": "FYNVwdhfVlqf",
        "outputId": "6141b36f-8ff2-4f78-ab5a-5074ef769c94"
      },
      "outputs": [
        {
          "output_type": "stream",
          "name": "stdout",
          "text": [
            "Mounted at /content/gdrive\n"
          ]
        }
      ],
      "source": [
        "from google.colab import drive\n",
        "drive.mount('/content/gdrive')\n",
        "import os\n",
        "os.getcwd()\n",
        "os.chdir('/content/gdrive/MyDrive/DBL2021')"
      ]
    },
    {
      "cell_type": "code",
      "source": [
        "import pickle as pkl\n",
        "import torch\n",
        "from torch.utils.data import Dataset\n",
        "from torch.utils.data import DataLoader\n",
        "import numpy as np\n",
        "import torch.nn as nn\n",
        "import torch.optim as optim\n",
        "from matplotlib import pyplot as plt"
      ],
      "metadata": {
        "id": "l8XlPOt1A2HP"
      },
      "execution_count": 2,
      "outputs": []
    },
    {
      "cell_type": "markdown",
      "source": [
        "## 导入数据"
      ],
      "metadata": {
        "id": "N-N3dgu5HULV"
      }
    },
    {
      "cell_type": "code",
      "source": [
        "def load_data_from_pfile(file_path):\n",
        "    with open(file_path, 'rb') as pfile:\n",
        "        sample_data = pkl.load(pfile)\n",
        "    return sample_data"
      ],
      "metadata": {
        "id": "db3wwEkVA5E7"
      },
      "execution_count": 7,
      "outputs": []
    },
    {
      "cell_type": "code",
      "source": [
        "class PHMDataset(Dataset):\n",
        "    '''\n",
        "    PHM IEEE 2012 Data Challenge Training data set (6 different Mechanical Bearings data)\n",
        "    '''\n",
        "    def __init__(self, pfiles=[]):\n",
        "        self.data = {'x': [], 'y': []}\n",
        "        for pfile in pfiles:\n",
        "            _data = load_data_from_pfile(pfile)\n",
        "            self.data['x'].append(_data['x'])\n",
        "            self.data['y'].append(_data['y'])\n",
        "        self.data['x'] = np.concatenate(self.data['x'])\n",
        "        self.data['y'] = np.concatenate(self.data['y'])[:,np.newaxis]\n",
        "    \n",
        "    def __len__(self):\n",
        "        return self.data['x'].shape[0]\n",
        "    \n",
        "    def __getitem__(self, i):\n",
        "        sample = {'x': torch.from_numpy(self.data['x'][i]), 'y': torch.from_numpy(self.data['y'][i])}\n",
        "        return sample"
      ],
      "metadata": {
        "id": "8_BnkB10A_6V"
      },
      "execution_count": 8,
      "outputs": []
    },
    {
      "cell_type": "code",
      "source": [
        "pkzfiles_path = 'Dataset/Bearing/'\n",
        "\n",
        "train_pfiles = [pkzfiles_path+'bearing1_1_train_data.pkz', pkzfiles_path+'bearing1_2_train_data.pkz', \\\n",
        "                pkzfiles_path+'bearing2_1_train_data.pkz', pkzfiles_path+'bearing2_2_train_data.pkz', \\\n",
        "                pkzfiles_path+'bearing3_1_train_data.pkz', pkzfiles_path+'bearing3_2_train_data.pkz']\n",
        "\n",
        "val_pfiles = [pkzfiles_path+'bearing1_1_val_data.pkz', pkzfiles_path+'bearing1_2_val_data.pkz', \\\n",
        "              pkzfiles_path+'bearing2_1_val_data.pkz', pkzfiles_path+'bearing2_2_val_data.pkz', \\\n",
        "              pkzfiles_path+'bearing3_1_val_data.pkz', pkzfiles_path+'bearing3_2_val_data.pkz']"
      ],
      "metadata": {
        "id": "VitsEeImBDJD"
      },
      "execution_count": 9,
      "outputs": []
    },
    {
      "cell_type": "code",
      "source": [
        "train_dataset = PHMDataset(pfiles=train_pfiles)\n",
        "val_dataset = PHMDataset(pfiles=val_pfiles)\n",
        "print(len(train_dataset), len(val_dataset))"
      ],
      "metadata": {
        "colab": {
          "base_uri": "https://localhost:8080/"
        },
        "id": "sfSh4YoZCVjj",
        "outputId": "83ad9055-cb4d-47b3-8e3c-6ce53c4b21ba"
      },
      "execution_count": 10,
      "outputs": [
        {
          "output_type": "stream",
          "name": "stdout",
          "text": [
            "6783 751\n"
          ]
        }
      ]
    },
    {
      "cell_type": "markdown",
      "source": [
        "## CNN模型训练"
      ],
      "metadata": {
        "id": "9dVHXuP0HkNX"
      }
    },
    {
      "cell_type": "code",
      "source": [
        "train_batch_size = 64\n",
        "val_batch_size = 64\n",
        "train_dataloader = DataLoader(train_dataset, batch_size=train_batch_size, shuffle=True, num_workers=1)\n",
        "val_dataloader = DataLoader(val_dataset, batch_size=val_batch_size, shuffle=True, num_workers=1)"
      ],
      "metadata": {
        "id": "zvFwec5TDOoW"
      },
      "execution_count": 11,
      "outputs": []
    },
    {
      "cell_type": "code",
      "source": [
        "def conv_bn_relu(in_channels, out_channels, kernel_size, stride=1, padding=0, dilation=1, groups=1, bias=True, padding_mode='zeros', batch_norm=True):\n",
        "    conv = nn.Conv2d(in_channels, out_channels, kernel_size, stride=stride, padding=padding, dilation=dilation, groups=groups, bias=bias, padding_mode=padding_mode)\n",
        "    nn.init.xavier_uniform_(conv.weight)\n",
        "    relu = nn.ReLU()\n",
        "    if batch_norm:\n",
        "        return nn.Sequential(\n",
        "            conv,\n",
        "            nn.BatchNorm2d(out_channels),\n",
        "            relu\n",
        "        )\n",
        "    else:\n",
        "        return nn.Sequential(\n",
        "            conv,\n",
        "            relu\n",
        "        )"
      ],
      "metadata": {
        "id": "v1JQ0rb6DTum"
      },
      "execution_count": 12,
      "outputs": []
    },
    {
      "cell_type": "code",
      "source": [
        "class CNN_FP(nn.Module):\n",
        "    def __init__(self):\n",
        "        super().__init__()\n",
        "        self.conv1 = conv_bn_relu(2, 16, 3, stride=1, padding=1, bias=True, batch_norm=True)\n",
        "        self.pool1 = nn.MaxPool2d(2, stride=2)\n",
        "        self.conv2 = conv_bn_relu(16, 32, 3, stride=1, padding=1, bias=True, batch_norm=True)\n",
        "        self.pool2 = nn.MaxPool2d(2, stride=2)\n",
        "        self.conv3 = conv_bn_relu(32, 64, 3, stride=1, padding=1, bias=True, batch_norm=True)\n",
        "        self.pool3 = nn.MaxPool2d(2, stride=2)\n",
        "        self.conv4 = conv_bn_relu(64, 128, 3, stride=1, padding=1, bias=True, batch_norm=True)\n",
        "        self.pool4 = nn.MaxPool2d(2, stride=2)\n",
        "        self.flatten = nn.Flatten()\n",
        "        self.fc1 = nn.Linear(8192, 256)\n",
        "        self.fc2 = nn.Linear(256, 128)\n",
        "        self.fc3 = nn.Linear(128, 1)\n",
        "        self.dropout1 = nn.Dropout(p=0.5)\n",
        "        self.dropout2 = nn.Dropout(p=0.2)\n",
        "\n",
        "    def forward(self, x):\n",
        "        # input shape = [Nx2x128x128]\n",
        "        x = self.conv1(x) # [Nx16x128x128]\n",
        "        x = self.pool1(x) # [Nx16x64x64]\n",
        "        x = self.conv2(x) # [Nx32x64x64]\n",
        "        x = self.pool2(x) # [Nx32x32x32]\n",
        "        x = self.conv3(x) # [Nx64x32x32]\n",
        "        x = self.pool3(x) # [Nx64x16x16]\n",
        "        x = self.conv4(x) # [Nx128x16x16]\n",
        "        x = self.pool4(x) # [Nx128x8x8]\n",
        "        x = self.flatten(x) # [Nx8192] {128*8*8=8192} (N => batch size, 128 => no. of channels, 8*8 => height of image*width of image)\n",
        "        x = self.fc1(x) # [Nx256]\n",
        "        # x = self.dropout1(x) # apply dropout\n",
        "        x = nn.ReLU()(x) # apply ReLU activation\n",
        "        x = self.fc2(x) # [Nx128]\n",
        "        # x = self.dropout2(x) # apply dropout\n",
        "        x = nn.ReLU()(x) # apply ReLU activation\n",
        "        x = self.fc3(x) # final fully connected layer (or) final linear layer [Nx1] -> output is probability of fault\n",
        "        return x"
      ],
      "metadata": {
        "id": "TWZ_384ODXL6"
      },
      "execution_count": 13,
      "outputs": []
    },
    {
      "cell_type": "code",
      "source": [
        "# 查看是否包含GPU\n",
        "device=torch.device(\"cuda:0\" if torch.cuda.is_available() else \"cpu\") # Declaring a variable \"device\" which will hold the device(i.e. either GPU or CPU) we are \n",
        "                                                                      #training the model on\n",
        "print(device)\n",
        "device\n",
        "model = CNN_FP().to(device) "
      ],
      "metadata": {
        "colab": {
          "base_uri": "https://localhost:8080/"
        },
        "id": "hvtsb38sDcJs",
        "outputId": "093572f7-eaa1-499a-c608-bea656703dd9"
      },
      "execution_count": 14,
      "outputs": [
        {
          "output_type": "stream",
          "name": "stdout",
          "text": [
            "cpu\n"
          ]
        }
      ]
    },
    {
      "cell_type": "code",
      "source": [
        "criterion = nn.MSELoss(reduction='sum')\n",
        "optimizer = optim.Adam(model.parameters(), lr=0.001, \n",
        "                        betas=(0.9, 0.999), eps=1e-08,\n",
        "                        weight_decay=0.01, amsgrad=False)\n",
        "multistep_lr_sch = optim.lr_scheduler.MultiStepLR(optimizer, milestones=[10,20], \n",
        "                                                  gamma=0.1, last_epoch=-1, verbose=False)"
      ],
      "metadata": {
        "id": "0uh9w8MnDgdt"
      },
      "execution_count": 15,
      "outputs": []
    },
    {
      "cell_type": "code",
      "source": [
        "def train_epoch(model, dataloader, criterion, optimizer):\n",
        "    total_loss = 0\n",
        "    num_of_samples = 0\n",
        "    model.train()\n",
        "    for i, batch in enumerate(dataloader):\n",
        "        x = batch['x'].to(device, dtype=torch.float)\n",
        "        y = batch['y'].to(device, dtype=torch.float)\n",
        "\n",
        "        optimizer.zero_grad()\n",
        "        y_prediction = model(x)\n",
        "        loss = criterion(y_prediction, y)\n",
        "        loss.backward()\n",
        "        optimizer.step()\n",
        "\n",
        "        total_loss += loss.cpu().item()\n",
        "        num_of_samples += x.shape[0]\n",
        "    return total_loss/num_of_samples \n",
        "\n",
        "\n",
        "def eval(model, dataloader, criterion):\n",
        "    total_loss = 0\n",
        "    num_of_samples = 0\n",
        "    model.eval()\n",
        "    for i, batch in enumerate(dataloader):\n",
        "        x = batch['x'].to(device, dtype=torch.float)\n",
        "        y = batch['y'].to(device, dtype=torch.float)\n",
        "\n",
        "        with torch.no_grad():\n",
        "            y_prediction = model(x)\n",
        "            loss = criterion(y_prediction, y)\n",
        "\n",
        "        total_loss += loss.cpu().item()\n",
        "        num_of_samples += x.shape[0]\n",
        "    return total_loss/num_of_samples"
      ],
      "metadata": {
        "id": "3IkHC2nVDo22"
      },
      "execution_count": 16,
      "outputs": []
    },
    {
      "cell_type": "code",
      "source": [
        "max_epochs = 3\n",
        "\n",
        "loss_vals = []\n",
        "for epoch in range(max_epochs):\n",
        "    train_loss = train_epoch(model, train_dataloader, criterion, optimizer)\n",
        "    val_loss = eval(model, val_dataloader, criterion)\n",
        "    multistep_lr_sch.step()\n",
        "    loss_vals.append([train_loss, val_loss])\n",
        "    print('{0}/{1}: train_loss = {2:.4f}, val_loss = {3:.4f}'.format(epoch+1, max_epochs, train_loss, val_loss) )\n"
      ],
      "metadata": {
        "colab": {
          "base_uri": "https://localhost:8080/",
          "height": 499
        },
        "id": "NUL9x5dEDtFA",
        "outputId": "a4f974f2-0258-4166-d219-d5048cdea20b"
      },
      "execution_count": 17,
      "outputs": [
        {
          "output_type": "error",
          "ename": "KeyboardInterrupt",
          "evalue": "ignored",
          "traceback": [
            "\u001b[0;31m---------------------------------------------------------------------------\u001b[0m",
            "\u001b[0;31mKeyboardInterrupt\u001b[0m                         Traceback (most recent call last)",
            "\u001b[0;32m<ipython-input-17-5b428a13893c>\u001b[0m in \u001b[0;36m<module>\u001b[0;34m\u001b[0m\n\u001b[1;32m      3\u001b[0m \u001b[0mloss_vals\u001b[0m \u001b[0;34m=\u001b[0m \u001b[0;34m[\u001b[0m\u001b[0;34m]\u001b[0m\u001b[0;34m\u001b[0m\u001b[0;34m\u001b[0m\u001b[0m\n\u001b[1;32m      4\u001b[0m \u001b[0;32mfor\u001b[0m \u001b[0mepoch\u001b[0m \u001b[0;32min\u001b[0m \u001b[0mrange\u001b[0m\u001b[0;34m(\u001b[0m\u001b[0mmax_epochs\u001b[0m\u001b[0;34m)\u001b[0m\u001b[0;34m:\u001b[0m\u001b[0;34m\u001b[0m\u001b[0;34m\u001b[0m\u001b[0m\n\u001b[0;32m----> 5\u001b[0;31m     \u001b[0mtrain_loss\u001b[0m \u001b[0;34m=\u001b[0m \u001b[0mtrain_epoch\u001b[0m\u001b[0;34m(\u001b[0m\u001b[0mmodel\u001b[0m\u001b[0;34m,\u001b[0m \u001b[0mtrain_dataloader\u001b[0m\u001b[0;34m,\u001b[0m \u001b[0mcriterion\u001b[0m\u001b[0;34m,\u001b[0m \u001b[0moptimizer\u001b[0m\u001b[0;34m)\u001b[0m\u001b[0;34m\u001b[0m\u001b[0;34m\u001b[0m\u001b[0m\n\u001b[0m\u001b[1;32m      6\u001b[0m     \u001b[0mval_loss\u001b[0m \u001b[0;34m=\u001b[0m \u001b[0meval\u001b[0m\u001b[0;34m(\u001b[0m\u001b[0mmodel\u001b[0m\u001b[0;34m,\u001b[0m \u001b[0mval_dataloader\u001b[0m\u001b[0;34m,\u001b[0m \u001b[0mcriterion\u001b[0m\u001b[0;34m)\u001b[0m\u001b[0;34m\u001b[0m\u001b[0;34m\u001b[0m\u001b[0m\n\u001b[1;32m      7\u001b[0m     \u001b[0mmultistep_lr_sch\u001b[0m\u001b[0;34m.\u001b[0m\u001b[0mstep\u001b[0m\u001b[0;34m(\u001b[0m\u001b[0;34m)\u001b[0m\u001b[0;34m\u001b[0m\u001b[0;34m\u001b[0m\u001b[0m\n",
            "\u001b[0;32m<ipython-input-16-5cfde6d4ac30>\u001b[0m in \u001b[0;36mtrain_epoch\u001b[0;34m(model, dataloader, criterion, optimizer)\u001b[0m\n\u001b[1;32m      8\u001b[0m \u001b[0;34m\u001b[0m\u001b[0m\n\u001b[1;32m      9\u001b[0m         \u001b[0moptimizer\u001b[0m\u001b[0;34m.\u001b[0m\u001b[0mzero_grad\u001b[0m\u001b[0;34m(\u001b[0m\u001b[0;34m)\u001b[0m\u001b[0;34m\u001b[0m\u001b[0;34m\u001b[0m\u001b[0m\n\u001b[0;32m---> 10\u001b[0;31m         \u001b[0my_prediction\u001b[0m \u001b[0;34m=\u001b[0m \u001b[0mmodel\u001b[0m\u001b[0;34m(\u001b[0m\u001b[0mx\u001b[0m\u001b[0;34m)\u001b[0m\u001b[0;34m\u001b[0m\u001b[0;34m\u001b[0m\u001b[0m\n\u001b[0m\u001b[1;32m     11\u001b[0m         \u001b[0mloss\u001b[0m \u001b[0;34m=\u001b[0m \u001b[0mcriterion\u001b[0m\u001b[0;34m(\u001b[0m\u001b[0my_prediction\u001b[0m\u001b[0;34m,\u001b[0m \u001b[0my\u001b[0m\u001b[0;34m)\u001b[0m\u001b[0;34m\u001b[0m\u001b[0;34m\u001b[0m\u001b[0m\n\u001b[1;32m     12\u001b[0m         \u001b[0mloss\u001b[0m\u001b[0;34m.\u001b[0m\u001b[0mbackward\u001b[0m\u001b[0;34m(\u001b[0m\u001b[0;34m)\u001b[0m\u001b[0;34m\u001b[0m\u001b[0;34m\u001b[0m\u001b[0m\n",
            "\u001b[0;32m/usr/local/lib/python3.8/dist-packages/torch/nn/modules/module.py\u001b[0m in \u001b[0;36m_call_impl\u001b[0;34m(self, *input, **kwargs)\u001b[0m\n\u001b[1;32m   1188\u001b[0m         if not (self._backward_hooks or self._forward_hooks or self._forward_pre_hooks or _global_backward_hooks\n\u001b[1;32m   1189\u001b[0m                 or _global_forward_hooks or _global_forward_pre_hooks):\n\u001b[0;32m-> 1190\u001b[0;31m             \u001b[0;32mreturn\u001b[0m \u001b[0mforward_call\u001b[0m\u001b[0;34m(\u001b[0m\u001b[0;34m*\u001b[0m\u001b[0minput\u001b[0m\u001b[0;34m,\u001b[0m \u001b[0;34m**\u001b[0m\u001b[0mkwargs\u001b[0m\u001b[0;34m)\u001b[0m\u001b[0;34m\u001b[0m\u001b[0;34m\u001b[0m\u001b[0m\n\u001b[0m\u001b[1;32m   1191\u001b[0m         \u001b[0;31m# Do not call functions when jit is used\u001b[0m\u001b[0;34m\u001b[0m\u001b[0;34m\u001b[0m\u001b[0;34m\u001b[0m\u001b[0m\n\u001b[1;32m   1192\u001b[0m         \u001b[0mfull_backward_hooks\u001b[0m\u001b[0;34m,\u001b[0m \u001b[0mnon_full_backward_hooks\u001b[0m \u001b[0;34m=\u001b[0m \u001b[0;34m[\u001b[0m\u001b[0;34m]\u001b[0m\u001b[0;34m,\u001b[0m \u001b[0;34m[\u001b[0m\u001b[0;34m]\u001b[0m\u001b[0;34m\u001b[0m\u001b[0;34m\u001b[0m\u001b[0m\n",
            "\u001b[0;32m<ipython-input-13-7146f021b3f1>\u001b[0m in \u001b[0;36mforward\u001b[0;34m(self, x)\u001b[0m\n\u001b[1;32m     22\u001b[0m         \u001b[0mx\u001b[0m \u001b[0;34m=\u001b[0m \u001b[0mself\u001b[0m\u001b[0;34m.\u001b[0m\u001b[0mpool1\u001b[0m\u001b[0;34m(\u001b[0m\u001b[0mx\u001b[0m\u001b[0;34m)\u001b[0m \u001b[0;31m# [Nx16x64x64]\u001b[0m\u001b[0;34m\u001b[0m\u001b[0;34m\u001b[0m\u001b[0m\n\u001b[1;32m     23\u001b[0m         \u001b[0mx\u001b[0m \u001b[0;34m=\u001b[0m \u001b[0mself\u001b[0m\u001b[0;34m.\u001b[0m\u001b[0mconv2\u001b[0m\u001b[0;34m(\u001b[0m\u001b[0mx\u001b[0m\u001b[0;34m)\u001b[0m \u001b[0;31m# [Nx32x64x64]\u001b[0m\u001b[0;34m\u001b[0m\u001b[0;34m\u001b[0m\u001b[0m\n\u001b[0;32m---> 24\u001b[0;31m         \u001b[0mx\u001b[0m \u001b[0;34m=\u001b[0m \u001b[0mself\u001b[0m\u001b[0;34m.\u001b[0m\u001b[0mpool2\u001b[0m\u001b[0;34m(\u001b[0m\u001b[0mx\u001b[0m\u001b[0;34m)\u001b[0m \u001b[0;31m# [Nx32x32x32]\u001b[0m\u001b[0;34m\u001b[0m\u001b[0;34m\u001b[0m\u001b[0m\n\u001b[0m\u001b[1;32m     25\u001b[0m         \u001b[0mx\u001b[0m \u001b[0;34m=\u001b[0m \u001b[0mself\u001b[0m\u001b[0;34m.\u001b[0m\u001b[0mconv3\u001b[0m\u001b[0;34m(\u001b[0m\u001b[0mx\u001b[0m\u001b[0;34m)\u001b[0m \u001b[0;31m# [Nx64x32x32]\u001b[0m\u001b[0;34m\u001b[0m\u001b[0;34m\u001b[0m\u001b[0m\n\u001b[1;32m     26\u001b[0m         \u001b[0mx\u001b[0m \u001b[0;34m=\u001b[0m \u001b[0mself\u001b[0m\u001b[0;34m.\u001b[0m\u001b[0mpool3\u001b[0m\u001b[0;34m(\u001b[0m\u001b[0mx\u001b[0m\u001b[0;34m)\u001b[0m \u001b[0;31m# [Nx64x16x16]\u001b[0m\u001b[0;34m\u001b[0m\u001b[0;34m\u001b[0m\u001b[0m\n",
            "\u001b[0;32m/usr/local/lib/python3.8/dist-packages/torch/nn/modules/module.py\u001b[0m in \u001b[0;36m_call_impl\u001b[0;34m(self, *input, **kwargs)\u001b[0m\n\u001b[1;32m   1188\u001b[0m         if not (self._backward_hooks or self._forward_hooks or self._forward_pre_hooks or _global_backward_hooks\n\u001b[1;32m   1189\u001b[0m                 or _global_forward_hooks or _global_forward_pre_hooks):\n\u001b[0;32m-> 1190\u001b[0;31m             \u001b[0;32mreturn\u001b[0m \u001b[0mforward_call\u001b[0m\u001b[0;34m(\u001b[0m\u001b[0;34m*\u001b[0m\u001b[0minput\u001b[0m\u001b[0;34m,\u001b[0m \u001b[0;34m**\u001b[0m\u001b[0mkwargs\u001b[0m\u001b[0;34m)\u001b[0m\u001b[0;34m\u001b[0m\u001b[0;34m\u001b[0m\u001b[0m\n\u001b[0m\u001b[1;32m   1191\u001b[0m         \u001b[0;31m# Do not call functions when jit is used\u001b[0m\u001b[0;34m\u001b[0m\u001b[0;34m\u001b[0m\u001b[0;34m\u001b[0m\u001b[0m\n\u001b[1;32m   1192\u001b[0m         \u001b[0mfull_backward_hooks\u001b[0m\u001b[0;34m,\u001b[0m \u001b[0mnon_full_backward_hooks\u001b[0m \u001b[0;34m=\u001b[0m \u001b[0;34m[\u001b[0m\u001b[0;34m]\u001b[0m\u001b[0;34m,\u001b[0m \u001b[0;34m[\u001b[0m\u001b[0;34m]\u001b[0m\u001b[0;34m\u001b[0m\u001b[0;34m\u001b[0m\u001b[0m\n",
            "\u001b[0;32m/usr/local/lib/python3.8/dist-packages/torch/nn/modules/pooling.py\u001b[0m in \u001b[0;36mforward\u001b[0;34m(self, input)\u001b[0m\n\u001b[1;32m    164\u001b[0m \u001b[0;34m\u001b[0m\u001b[0m\n\u001b[1;32m    165\u001b[0m     \u001b[0;32mdef\u001b[0m \u001b[0mforward\u001b[0m\u001b[0;34m(\u001b[0m\u001b[0mself\u001b[0m\u001b[0;34m,\u001b[0m \u001b[0minput\u001b[0m\u001b[0;34m:\u001b[0m \u001b[0mTensor\u001b[0m\u001b[0;34m)\u001b[0m\u001b[0;34m:\u001b[0m\u001b[0;34m\u001b[0m\u001b[0;34m\u001b[0m\u001b[0m\n\u001b[0;32m--> 166\u001b[0;31m         return F.max_pool2d(input, self.kernel_size, self.stride,\n\u001b[0m\u001b[1;32m    167\u001b[0m                             \u001b[0mself\u001b[0m\u001b[0;34m.\u001b[0m\u001b[0mpadding\u001b[0m\u001b[0;34m,\u001b[0m \u001b[0mself\u001b[0m\u001b[0;34m.\u001b[0m\u001b[0mdilation\u001b[0m\u001b[0;34m,\u001b[0m \u001b[0mceil_mode\u001b[0m\u001b[0;34m=\u001b[0m\u001b[0mself\u001b[0m\u001b[0;34m.\u001b[0m\u001b[0mceil_mode\u001b[0m\u001b[0;34m,\u001b[0m\u001b[0;34m\u001b[0m\u001b[0;34m\u001b[0m\u001b[0m\n\u001b[1;32m    168\u001b[0m                             return_indices=self.return_indices)\n",
            "\u001b[0;32m/usr/local/lib/python3.8/dist-packages/torch/_jit_internal.py\u001b[0m in \u001b[0;36mfn\u001b[0;34m(*args, **kwargs)\u001b[0m\n\u001b[1;32m    483\u001b[0m             \u001b[0;32mreturn\u001b[0m \u001b[0mif_true\u001b[0m\u001b[0;34m(\u001b[0m\u001b[0;34m*\u001b[0m\u001b[0margs\u001b[0m\u001b[0;34m,\u001b[0m \u001b[0;34m**\u001b[0m\u001b[0mkwargs\u001b[0m\u001b[0;34m)\u001b[0m\u001b[0;34m\u001b[0m\u001b[0;34m\u001b[0m\u001b[0m\n\u001b[1;32m    484\u001b[0m         \u001b[0;32melse\u001b[0m\u001b[0;34m:\u001b[0m\u001b[0;34m\u001b[0m\u001b[0;34m\u001b[0m\u001b[0m\n\u001b[0;32m--> 485\u001b[0;31m             \u001b[0;32mreturn\u001b[0m \u001b[0mif_false\u001b[0m\u001b[0;34m(\u001b[0m\u001b[0;34m*\u001b[0m\u001b[0margs\u001b[0m\u001b[0;34m,\u001b[0m \u001b[0;34m**\u001b[0m\u001b[0mkwargs\u001b[0m\u001b[0;34m)\u001b[0m\u001b[0;34m\u001b[0m\u001b[0;34m\u001b[0m\u001b[0m\n\u001b[0m\u001b[1;32m    486\u001b[0m \u001b[0;34m\u001b[0m\u001b[0m\n\u001b[1;32m    487\u001b[0m     \u001b[0;32mif\u001b[0m \u001b[0mif_true\u001b[0m\u001b[0;34m.\u001b[0m\u001b[0m__doc__\u001b[0m \u001b[0;32mis\u001b[0m \u001b[0;32mNone\u001b[0m \u001b[0;32mand\u001b[0m \u001b[0mif_false\u001b[0m\u001b[0;34m.\u001b[0m\u001b[0m__doc__\u001b[0m \u001b[0;32mis\u001b[0m \u001b[0;32mnot\u001b[0m \u001b[0;32mNone\u001b[0m\u001b[0;34m:\u001b[0m\u001b[0;34m\u001b[0m\u001b[0;34m\u001b[0m\u001b[0m\n",
            "\u001b[0;32m/usr/local/lib/python3.8/dist-packages/torch/nn/functional.py\u001b[0m in \u001b[0;36m_max_pool2d\u001b[0;34m(input, kernel_size, stride, padding, dilation, ceil_mode, return_indices)\u001b[0m\n\u001b[1;32m    780\u001b[0m     \u001b[0;32mif\u001b[0m \u001b[0mstride\u001b[0m \u001b[0;32mis\u001b[0m \u001b[0;32mNone\u001b[0m\u001b[0;34m:\u001b[0m\u001b[0;34m\u001b[0m\u001b[0;34m\u001b[0m\u001b[0m\n\u001b[1;32m    781\u001b[0m         \u001b[0mstride\u001b[0m \u001b[0;34m=\u001b[0m \u001b[0mtorch\u001b[0m\u001b[0;34m.\u001b[0m\u001b[0mjit\u001b[0m\u001b[0;34m.\u001b[0m\u001b[0mannotate\u001b[0m\u001b[0;34m(\u001b[0m\u001b[0mList\u001b[0m\u001b[0;34m[\u001b[0m\u001b[0mint\u001b[0m\u001b[0;34m]\u001b[0m\u001b[0;34m,\u001b[0m \u001b[0;34m[\u001b[0m\u001b[0;34m]\u001b[0m\u001b[0;34m)\u001b[0m\u001b[0;34m\u001b[0m\u001b[0;34m\u001b[0m\u001b[0m\n\u001b[0;32m--> 782\u001b[0;31m     \u001b[0;32mreturn\u001b[0m \u001b[0mtorch\u001b[0m\u001b[0;34m.\u001b[0m\u001b[0mmax_pool2d\u001b[0m\u001b[0;34m(\u001b[0m\u001b[0minput\u001b[0m\u001b[0;34m,\u001b[0m \u001b[0mkernel_size\u001b[0m\u001b[0;34m,\u001b[0m \u001b[0mstride\u001b[0m\u001b[0;34m,\u001b[0m \u001b[0mpadding\u001b[0m\u001b[0;34m,\u001b[0m \u001b[0mdilation\u001b[0m\u001b[0;34m,\u001b[0m \u001b[0mceil_mode\u001b[0m\u001b[0;34m)\u001b[0m\u001b[0;34m\u001b[0m\u001b[0;34m\u001b[0m\u001b[0m\n\u001b[0m\u001b[1;32m    783\u001b[0m \u001b[0;34m\u001b[0m\u001b[0m\n\u001b[1;32m    784\u001b[0m \u001b[0;34m\u001b[0m\u001b[0m\n",
            "\u001b[0;31mKeyboardInterrupt\u001b[0m: "
          ]
        }
      ]
    },
    {
      "cell_type": "code",
      "source": [
        "# 绘制图形\n",
        "plt.plot(range(max_epochs), [l[0] for l in loss_vals], 'b.-', label='train loss')\n",
        "plt.plot(range(max_epochs), [l[1] for l in loss_vals], 'r.-', label='val loss')\n",
        "plt.legend()\n",
        "plt.show()"
      ],
      "metadata": {
        "id": "wfV4NyqFDwho"
      },
      "execution_count": null,
      "outputs": []
    },
    {
      "cell_type": "code",
      "source": [
        "torch.save(model.state_dict(), 'Bearing_models/cnn_model1.pth') # 模型保存\n"
      ],
      "metadata": {
        "id": "Ii9PAiqWDyci"
      },
      "execution_count": null,
      "outputs": []
    },
    {
      "cell_type": "markdown",
      "source": [
        "## 模型预测"
      ],
      "metadata": {
        "id": "qhnEG55PI-Kx"
      }
    },
    {
      "cell_type": "code",
      "source": [
        "model.load_state_dict(torch.load('Bearing_models/cnn_model1.pth')) # 模型导入"
      ],
      "metadata": {
        "colab": {
          "base_uri": "https://localhost:8080/"
        },
        "id": "ucY5UxxVKTba",
        "outputId": "4f2051fe-b7fa-4838-9415-a1772f3bddd9"
      },
      "execution_count": 18,
      "outputs": [
        {
          "output_type": "execute_result",
          "data": {
            "text/plain": [
              "<All keys matched successfully>"
            ]
          },
          "metadata": {},
          "execution_count": 18
        }
      ]
    },
    {
      "cell_type": "code",
      "source": [
        "def model_inference_helper(model, dataloader):\n",
        "    results = {'labels':[], 'predictions':[]}\n",
        "    model.eval()\n",
        "    for i, batch in enumerate(dataloader):\n",
        "        x = batch['x'].to(device, dtype=torch.float)\n",
        "        y = batch['y']\n",
        "\n",
        "        with torch.no_grad():\n",
        "            y_prediction = model(x)\n",
        "\n",
        "        results['labels'] += y.squeeze().tolist()\n",
        "        results['predictions'] += y_prediction.cpu().squeeze().tolist()\n",
        "    return results\n",
        "\n",
        "def sort_results(results):\n",
        "    ind = [i[0] for i in sorted(enumerate(results['labels']), key=lambda x: x[1])]\n",
        "    results['labels'] = [results['labels'][i] for i in ind]\n",
        "    results['predictions'] = [results['predictions'][i] for i in ind]\n",
        "    return results"
      ],
      "metadata": {
        "id": "eJrc1huPF6On"
      },
      "execution_count": 19,
      "outputs": []
    },
    {
      "cell_type": "markdown",
      "source": [
        "### Bearing1_1"
      ],
      "metadata": {
        "id": "GPNBp9QxF-o5"
      }
    },
    {
      "cell_type": "code",
      "source": [
        "train1_pfiles = [pkzfiles_path+'bearing1_1_train_data.pkz']\n",
        "val1_pfiles = [pkzfiles_path+'bearing1_1_val_data.pkz']\n",
        "train1_dataset = PHMDataset(pfiles=train1_pfiles)\n",
        "val1_dataset = PHMDataset(pfiles=val1_pfiles)\n",
        "\n",
        "train1_dataloader = DataLoader(train1_dataset, batch_size=64, shuffle=False, num_workers=1)\n",
        "val1_dataloader = DataLoader(val1_dataset, batch_size=64, shuffle=False, num_workers=1)\n",
        "\n",
        "train1_results = model_inference_helper(model, train1_dataloader)\n",
        "val1_results = model_inference_helper(model, val1_dataloader)\n",
        "results = {'labels': train1_results['labels']+val1_results['labels'], 'predictions': train1_results['predictions']+val1_results['predictions']}\n",
        "results = sort_results(results)\n",
        "\n",
        "fig, ax = plt.subplots(nrows=1, ncols=2, figsize=[20,5])\n",
        "ax[0].plot(range(len(results['labels'])), results['labels'], 'b.-', label='labels(actual values)')\n",
        "ax[0].plot(range(len(results['predictions'])), results['predictions'], 'r.-', label='predicted values')\n",
        "ax[0].legend()\n",
        "ax[1].scatter(train1_results['labels'], train1_results['predictions'], marker='.', c='b', label='train')\n",
        "ax[1].scatter(val1_results['labels'], val1_results['predictions'], marker='.', c='r', label='val')\n",
        "ax[1].scatter(results['labels'], results['labels'], marker='.', c='k', label='expected')\n",
        "ax[1].set_xlabel('true labels')\n",
        "ax[1].set_ylabel('predictions')\n",
        "ax[1].legend()\n",
        "plt.subplots_adjust(wspace=0.5)\n",
        "plt.show()"
      ],
      "metadata": {
        "colab": {
          "base_uri": "https://localhost:8080/",
          "height": 190
        },
        "id": "bmX5zqmdF8dF",
        "outputId": "4e123428-6a38-46d9-fe6a-8fb1dc202277"
      },
      "execution_count": 20,
      "outputs": [
        {
          "output_type": "display_data",
          "data": {
            "text/plain": [
              "<Figure size 1440x360 with 2 Axes>"
            ],
            "image/png": "[encoded data removed]"
          },
          "metadata": {
            "needs_background": "light"
          }
        }
      ]
    },
    {
      "cell_type": "markdown",
      "source": [
        "### Bearing1_2"
      ],
      "metadata": {
        "id": "VS69XwEeJG_u"
      }
    },
    {
      "cell_type": "code",
      "source": [
        "train1_pfiles = [pkzfiles_path+'bearing1_2_train_data.pkz']\n",
        "val1_pfiles = [pkzfiles_path+'bearing1_2_val_data.pkz']\n",
        "train1_dataset = PHMDataset(pfiles=train1_pfiles)\n",
        "val1_dataset = PHMDataset(pfiles=val1_pfiles)\n",
        "\n",
        "train1_dataloader = DataLoader(train1_dataset, batch_size=64, shuffle=False, num_workers=1)\n",
        "val1_dataloader = DataLoader(val1_dataset, batch_size=64, shuffle=False, num_workers=1)\n",
        "\n",
        "train1_results = model_inference_helper(model, train1_dataloader)\n",
        "val1_results = model_inference_helper(model, val1_dataloader)\n",
        "results = {'labels': train1_results['labels']+val1_results['labels'], 'predictions': train1_results['predictions']+val1_results['predictions']}\n",
        "results = sort_results(results)\n",
        "\n",
        "fig, ax = plt.subplots(nrows=1, ncols=2, figsize=[20,5])\n",
        "ax[0].plot(range(len(results['labels'])), results['labels'], 'b.-', label='labels(actual values)')\n",
        "ax[0].plot(range(len(results['predictions'])), results['predictions'], 'r.-', label='predicted values')\n",
        "ax[0].legend()\n",
        "ax[1].scatter(train1_results['labels'], train1_results['predictions'], marker='.', c='b', label='train')\n",
        "ax[1].scatter(val1_results['labels'], val1_results['predictions'], marker='.', c='r', label='val')\n",
        "ax[1].scatter(results['labels'], results['labels'], marker='.', c='k', label='expected')\n",
        "ax[1].set_xlabel('true labels')\n",
        "ax[1].set_ylabel('predictions')\n",
        "ax[1].legend()\n",
        "plt.subplots_adjust(wspace=0.5)\n",
        "plt.show()"
      ],
      "metadata": {
        "id": "uf3xlCokJKLL"
      },
      "execution_count": null,
      "outputs": []
    },
    {
      "cell_type": "markdown",
      "source": [
        "### Bearing 2_1"
      ],
      "metadata": {
        "id": "rajTkU7aJMVe"
      }
    },
    {
      "cell_type": "code",
      "source": [
        "train1_pfiles = [pkzfiles_path+'bearing2_1_train_data.pkz']\n",
        "val1_pfiles = [pkzfiles_path+'bearing2_1_val_data.pkz']\n",
        "train1_dataset = PHMDataset(pfiles=train1_pfiles)\n",
        "val1_dataset = PHMDataset(pfiles=val1_pfiles)\n",
        "\n",
        "train1_dataloader = DataLoader(train1_dataset, batch_size=64, shuffle=False, num_workers=1)\n",
        "val1_dataloader = DataLoader(val1_dataset, batch_size=64, shuffle=False, num_workers=1)\n",
        "\n",
        "train1_results = model_inference_helper(model, train1_dataloader)\n",
        "val1_results = model_inference_helper(model, val1_dataloader)\n",
        "results = {'labels': train1_results['labels']+val1_results['labels'], 'predictions': train1_results['predictions']+val1_results['predictions']}\n",
        "results = sort_results(results)\n",
        "\n",
        "fig, ax = plt.subplots(nrows=1, ncols=2, figsize=[20,5])\n",
        "ax[0].plot(range(len(results['labels'])), results['labels'], 'b.-', label='labels(actual values)')\n",
        "ax[0].plot(range(len(results['predictions'])), results['predictions'], 'r.-', label='predicted values')\n",
        "ax[0].legend()\n",
        "ax[1].scatter(train1_results['labels'], train1_results['predictions'], marker='.', c='b', label='train')\n",
        "ax[1].scatter(val1_results['labels'], val1_results['predictions'], marker='.', c='r', label='val')\n",
        "ax[1].scatter(results['labels'], results['labels'], marker='.', c='k', label='expected')\n",
        "ax[1].set_xlabel('true labels')\n",
        "ax[1].set_ylabel('predictions')\n",
        "ax[1].legend()\n",
        "plt.subplots_adjust(wspace=0.5)\n",
        "plt.show()"
      ],
      "metadata": {
        "id": "3vgtUrX7JOTI"
      },
      "execution_count": null,
      "outputs": []
    },
    {
      "cell_type": "markdown",
      "source": [
        "### Bearing 2_2"
      ],
      "metadata": {
        "id": "8ueoBNSxJQEA"
      }
    },
    {
      "cell_type": "code",
      "source": [
        "train1_pfiles = [pkzfiles_path+'bearing2_2_train_data.pkz']\n",
        "val1_pfiles = [pkzfiles_path+'bearing2_2_val_data.pkz']\n",
        "train1_dataset = PHMDataset(pfiles=train1_pfiles)\n",
        "val1_dataset = PHMDataset(pfiles=val1_pfiles)\n",
        "\n",
        "train1_dataloader = DataLoader(train1_dataset, batch_size=64, shuffle=False, num_workers=1)\n",
        "val1_dataloader = DataLoader(val1_dataset, batch_size=64, shuffle=False, num_workers=1)\n",
        "\n",
        "train1_results = model_inference_helper(model, train1_dataloader)\n",
        "val1_results = model_inference_helper(model, val1_dataloader)\n",
        "results = {'labels': train1_results['labels']+val1_results['labels'], 'predictions': train1_results['predictions']+val1_results['predictions']}\n",
        "results = sort_results(results)\n",
        "\n",
        "fig, ax = plt.subplots(nrows=1, ncols=2, figsize=[20,5])\n",
        "ax[0].plot(range(len(results['labels'])), results['labels'], 'b.-', label='labels(actual values)')\n",
        "ax[0].plot(range(len(results['predictions'])), results['predictions'], 'r.-', label='predicted values')\n",
        "ax[0].legend()\n",
        "ax[1].scatter(train1_results['labels'], train1_results['predictions'], marker='.', c='b', label='train')\n",
        "ax[1].scatter(val1_results['labels'], val1_results['predictions'], marker='.', c='r', label='val')\n",
        "ax[1].scatter(results['labels'], results['labels'], marker='.', c='k', label='expected')\n",
        "ax[1].set_xlabel('true labels')\n",
        "ax[1].set_ylabel('predictions')\n",
        "ax[1].legend()\n",
        "plt.subplots_adjust(wspace=0.5)\n",
        "plt.show()"
      ],
      "metadata": {
        "id": "5kcxn63xJSId"
      },
      "execution_count": null,
      "outputs": []
    },
    {
      "cell_type": "markdown",
      "source": [
        "### Bearing 3_1"
      ],
      "metadata": {
        "id": "kObZzojDJT2J"
      }
    },
    {
      "cell_type": "code",
      "source": [
        "train1_pfiles = [pkzfiles_path+'bearing3_1_train_data.pkz']\n",
        "val1_pfiles = [pkzfiles_path+'bearing3_1_val_data.pkz']\n",
        "train1_dataset = PHMDataset(pfiles=train1_pfiles)\n",
        "val1_dataset = PHMDataset(pfiles=val1_pfiles)\n",
        "\n",
        "train1_dataloader = DataLoader(train1_dataset, batch_size=64, shuffle=False, num_workers=1)\n",
        "val1_dataloader = DataLoader(val1_dataset, batch_size=64, shuffle=False, num_workers=1)\n",
        "\n",
        "train1_results = model_inference_helper(model, train1_dataloader)\n",
        "val1_results = model_inference_helper(model, val1_dataloader)\n",
        "results = {'labels': train1_results['labels']+val1_results['labels'], 'predictions': train1_results['predictions']+val1_results['predictions']}\n",
        "results = sort_results(results)\n",
        "\n",
        "fig, ax = plt.subplots(nrows=1, ncols=2, figsize=[20,5])\n",
        "ax[0].plot(range(len(results['labels'])), results['labels'], 'b.-', label='labels(actual values)')\n",
        "ax[0].plot(range(len(results['predictions'])), results['predictions'], 'r.-', label='predicted values')\n",
        "ax[0].legend()\n",
        "ax[1].scatter(train1_results['labels'], train1_results['predictions'], marker='.', c='b', label='train')\n",
        "ax[1].scatter(val1_results['labels'], val1_results['predictions'], marker='.', c='r', label='val')\n",
        "ax[1].scatter(results['labels'], results['labels'], marker='.', c='k', label='expected')\n",
        "ax[1].set_xlabel('true labels')\n",
        "ax[1].set_ylabel('predictions')\n",
        "ax[1].legend()\n",
        "plt.subplots_adjust(wspace=0.5)\n",
        "plt.show()"
      ],
      "metadata": {
        "id": "R2giT_cFJV0r"
      },
      "execution_count": null,
      "outputs": []
    },
    {
      "cell_type": "markdown",
      "source": [
        "### Bearing 3_2"
      ],
      "metadata": {
        "id": "3G_g2xLVJXa9"
      }
    },
    {
      "cell_type": "code",
      "source": [
        "train1_pfiles = [pkzfiles_path+'bearing3_2_train_data.pkz']\n",
        "val1_pfiles = [pkzfiles_path+'bearing3_2_val_data.pkz']\n",
        "train1_dataset = PHMDataset(pfiles=train1_pfiles)\n",
        "val1_dataset = PHMDataset(pfiles=val1_pfiles)\n",
        "\n",
        "train1_dataloader = DataLoader(train1_dataset, batch_size=64, shuffle=False, num_workers=1)\n",
        "val1_dataloader = DataLoader(val1_dataset, batch_size=64, shuffle=False, num_workers=1)\n",
        "\n",
        "train1_results = model_inference_helper(model, train1_dataloader)\n",
        "val1_results = model_inference_helper(model, val1_dataloader)\n",
        "results = {'labels': train1_results['labels']+val1_results['labels'], 'predictions': train1_results['predictions']+val1_results['predictions']}\n",
        "results = sort_results(results)\n",
        "\n",
        "fig, ax = plt.subplots(nrows=1, ncols=2, figsize=[20,5])\n",
        "ax[0].plot(range(len(results['labels'])), results['labels'], 'b.-', label='labels(actual values)')\n",
        "ax[0].plot(range(len(results['predictions'])), results['predictions'], 'r.-', label='predicted values')\n",
        "ax[0].legend()\n",
        "ax[1].scatter(train1_results['labels'], train1_results['predictions'], marker='.', c='b', label='train')\n",
        "ax[1].scatter(val1_results['labels'], val1_results['predictions'], marker='.', c='r', label='val')\n",
        "ax[1].scatter(results['labels'], results['labels'], marker='.', c='k', label='expected')\n",
        "ax[1].set_xlabel('true labels')\n",
        "ax[1].set_ylabel('predictions')\n",
        "ax[1].legend()\n",
        "plt.subplots_adjust(wspace=0.5)\n",
        "plt.show()"
      ],
      "metadata": {
        "id": "m89rhbiCJYcu"
      },
      "execution_count": null,
      "outputs": []
    }
  ]
}